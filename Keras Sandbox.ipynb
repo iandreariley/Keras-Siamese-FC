{
 "cells": [
  {
   "cell_type": "code",
   "execution_count": 74,
   "metadata": {},
   "outputs": [],
   "source": [
    "import tensorflow as tf\n",
    "import keras\n",
    "import numpy as np\n",
    "from keras.models import Model, Sequential\n",
    "from keras.layers import Input, Lambda, Flatten\n",
    "from keras import backend as K"
   ]
  },
  {
   "cell_type": "markdown",
   "metadata": {},
   "source": [
    "**BASIC FUCKING TEST FOR FUCKING SANITY**"
   ]
  },
  {
   "cell_type": "code",
   "execution_count": 81,
   "metadata": {},
   "outputs": [
    {
     "data": {
      "text/plain": [
       "array([[[ 1.],\n",
       "        [ 2.],\n",
       "        [ 3.],\n",
       "        [ 4.],\n",
       "        [ 5.]]], dtype=float32)"
      ]
     },
     "execution_count": 81,
     "metadata": {},
     "output_type": "execute_result"
    }
   ],
   "source": [
    "def max_function(x):\n",
    "    return K.max(x, axis=1)\n",
    "\n",
    "input_tensor = Input(shape=(5,5,1))\n",
    "identity = Lambda(max_function)(input_tensor)\n",
    "m = Model(inputs=input_tensor, outputs=identity)\n",
    "m.predict(np.array([[[[1],[2],[3],[4],[5]],\n",
    "                    [[1],[2],[3],[4],[5]],\n",
    "                    [[1],[2],[3],[4],[5]],\n",
    "                    [[1],[2],[3],[4],[5]],\n",
    "                    [[1],[2],[3],[4],[5]]\n",
    "                   ]]))"
   ]
  },
  {
   "cell_type": "markdown",
   "metadata": {},
   "source": [
    "**Test inputs**"
   ]
  },
  {
   "cell_type": "code",
   "execution_count": 82,
   "metadata": {},
   "outputs": [],
   "source": [
    "batch_size = 2\n",
    "dim = 5\n",
    "input_shape = (dim,dim,1)\n",
    "batch_shape = (batch_size,) + input_shape\n",
    "test_tensor = Input(shape=input_shape)\n",
    "label_tensor = Input(shape=input_shape)\n",
    "test_in = np.empty(batch_shape)\n",
    "\n",
    "for i in range(dim):\n",
    "    for j in range(dim):\n",
    "        test_in[:,i,j,:] = i + j\n",
    "        \n",
    "positive_labels = np.ones(batch_shape)\n",
    "negative_labels = np.full(batch_shape, -1)\n",
    "diagonal_negative_labels = np.ones(batch_shape)\n",
    "\n",
    "for i in range(dim):\n",
    "    diagonal_negative_labels[:,i,i,:] = -1"
   ]
  },
  {
   "cell_type": "markdown",
   "metadata": {},
   "source": [
    "**K.max()**"
   ]
  },
  {
   "cell_type": "code",
   "execution_count": 84,
   "metadata": {},
   "outputs": [
    {
     "name": "stdout",
     "output_type": "stream",
     "text": [
      "(2, 5, 5, 1)\n"
     ]
    },
    {
     "data": {
      "text/plain": [
       "array([[ 8.],\n",
       "       [ 8.]], dtype=float32)"
      ]
     },
     "execution_count": 84,
     "metadata": {},
     "output_type": "execute_result"
    }
   ],
   "source": [
    "max_col = Lambda(max_function)(test_tensor)\n",
    "max_row = Lambda(max_function)(max_col)\n",
    "model = Model(inputs=test_tensor, outputs=max_row)\n",
    "print(test_in.shape)\n",
    "model.predict(test_in)"
   ]
  },
  {
   "cell_type": "markdown",
   "metadata": {
    "collapsed": true
   },
   "source": [
    "**Subtract**"
   ]
  },
  {
   "cell_type": "code",
   "execution_count": 88,
   "metadata": {},
   "outputs": [
    {
     "data": {
      "text/plain": [
       "array([[[[-8.],\n",
       "         [-7.],\n",
       "         [-6.],\n",
       "         [-5.],\n",
       "         [-4.]],\n",
       "\n",
       "        [[-7.],\n",
       "         [-6.],\n",
       "         [-5.],\n",
       "         [-4.],\n",
       "         [-3.]],\n",
       "\n",
       "        [[-6.],\n",
       "         [-5.],\n",
       "         [-4.],\n",
       "         [-3.],\n",
       "         [-2.]],\n",
       "\n",
       "        [[-5.],\n",
       "         [-4.],\n",
       "         [-3.],\n",
       "         [-2.],\n",
       "         [-1.]],\n",
       "\n",
       "        [[-4.],\n",
       "         [-3.],\n",
       "         [-2.],\n",
       "         [-1.],\n",
       "         [ 0.]]],\n",
       "\n",
       "\n",
       "       [[[-8.],\n",
       "         [-7.],\n",
       "         [-6.],\n",
       "         [-5.],\n",
       "         [-4.]],\n",
       "\n",
       "        [[-7.],\n",
       "         [-6.],\n",
       "         [-5.],\n",
       "         [-4.],\n",
       "         [-3.]],\n",
       "\n",
       "        [[-6.],\n",
       "         [-5.],\n",
       "         [-4.],\n",
       "         [-3.],\n",
       "         [-2.]],\n",
       "\n",
       "        [[-5.],\n",
       "         [-4.],\n",
       "         [-3.],\n",
       "         [-2.],\n",
       "         [-1.]],\n",
       "\n",
       "        [[-4.],\n",
       "         [-3.],\n",
       "         [-2.],\n",
       "         [-1.],\n",
       "         [ 0.]]]], dtype=float32)"
      ]
     },
     "execution_count": 88,
     "metadata": {},
     "output_type": "execute_result"
    }
   ],
   "source": [
    "def sub_function(x):\n",
    "    max_scores = K.max(K.max(x, axis=1, keepdims=True), axis=2, keepdims=True)\n",
    "    return x - max_scores\n",
    "\n",
    "max_zero = Lambda(sub_function)(test_tensor)\n",
    "model = Model(inputs=test_tensor, outputs=max_zero)\n",
    "model.predict(test_in)"
   ]
  },
  {
   "cell_type": "markdown",
   "metadata": {},
   "source": [
    "**logarithm**"
   ]
  },
  {
   "cell_type": "code",
   "execution_count": 96,
   "metadata": {},
   "outputs": [
    {
     "data": {
      "text/plain": [
       "array([ 0.08088002,  0.08088002], dtype=float32)"
      ]
     },
     "execution_count": 96,
     "metadata": {},
     "output_type": "execute_result"
    }
   ],
   "source": [
    "keras.layers.merge\n",
    "\n",
    "def log_loss(x):\n",
    "    stable = sub_function(x)\n",
    "    probs = K.exp(stable) + 1\n",
    "    return K.log(probs)\n",
    "\n",
    "def avg_loss(x):\n",
    "    return K.mean(x)\n",
    "\n",
    "custom_loss = Lambda(log_loss)(test_tensor)\n",
    "avg_loss = Lambda(avg_loss)(custom_loss)\n",
    "\n",
    "model = Model(inputs=test_tensor, outputs=avg_loss)\n",
    "model.predict(test_in)"
   ]
  },
  {
   "cell_type": "markdown",
   "metadata": {},
   "source": [
    "**Multiply**"
   ]
  },
  {
   "cell_type": "code",
   "execution_count": 99,
   "metadata": {},
   "outputs": [
    {
     "data": {
      "text/plain": [
       "array([[[[-0.],\n",
       "         [-1.],\n",
       "         [-2.],\n",
       "         [-3.],\n",
       "         [-4.]],\n",
       "\n",
       "        [[-1.],\n",
       "         [-2.],\n",
       "         [-3.],\n",
       "         [-4.],\n",
       "         [-5.]],\n",
       "\n",
       "        [[-2.],\n",
       "         [-3.],\n",
       "         [-4.],\n",
       "         [-5.],\n",
       "         [-6.]],\n",
       "\n",
       "        [[-3.],\n",
       "         [-4.],\n",
       "         [-5.],\n",
       "         [-6.],\n",
       "         [-7.]],\n",
       "\n",
       "        [[-4.],\n",
       "         [-5.],\n",
       "         [-6.],\n",
       "         [-7.],\n",
       "         [-8.]]],\n",
       "\n",
       "\n",
       "       [[[-0.],\n",
       "         [-1.],\n",
       "         [-2.],\n",
       "         [-3.],\n",
       "         [-4.]],\n",
       "\n",
       "        [[-1.],\n",
       "         [-2.],\n",
       "         [-3.],\n",
       "         [-4.],\n",
       "         [-5.]],\n",
       "\n",
       "        [[-2.],\n",
       "         [-3.],\n",
       "         [-4.],\n",
       "         [-5.],\n",
       "         [-6.]],\n",
       "\n",
       "        [[-3.],\n",
       "         [-4.],\n",
       "         [-5.],\n",
       "         [-6.],\n",
       "         [-7.]],\n",
       "\n",
       "        [[-4.],\n",
       "         [-5.],\n",
       "         [-6.],\n",
       "         [-7.],\n",
       "         [-8.]]]], dtype=float32)"
      ]
     },
     "execution_count": 99,
     "metadata": {},
     "output_type": "execute_result"
    }
   ],
   "source": [
    "def product_fn(args):\n",
    "    return args[0] * args[1]\n",
    "\n",
    "product = Lambda(product_fn)([test_tensor, label_tensor])\n",
    "model = Model(inputs=[test_tensor, label_tensor], outputs=product)\n",
    "model.predict([test_in, negative_labels])"
   ]
  },
  {
   "cell_type": "markdown",
   "metadata": {},
   "source": [
    "**Computing with labels**"
   ]
  },
  {
   "cell_type": "code",
   "execution_count": 103,
   "metadata": {},
   "outputs": [
    {
     "data": {
      "text/plain": [
       "array([ 0.08088002,  0.08088002], dtype=float32)"
      ]
     },
     "execution_count": 103,
     "metadata": {},
     "output_type": "execute_result"
    }
   ],
   "source": [
    "def loss_fn(inputs):\n",
    "    y_true, y_pred = inputs\n",
    "    product = y_true * y_pred\n",
    "    max_prod = K.max(K.max(product, axis=1, keepdims=True), axis=2, keepdims=True)\n",
    "    stable_product = product - max_prod\n",
    "    probs = K.exp(stable_product) + 1\n",
    "    logs = K.log(probs)\n",
    "    return K.mean(logs)\n",
    "\n",
    "loss = Lambda(loss_fn)([label_tensor, test_tensor])\n",
    "model = Model(inputs=[label_tensor, test_tensor], outputs=loss)\n",
    "model.predict([negative_labels, test_in])"
   ]
  },
  {
   "cell_type": "code",
   "execution_count": 108,
   "metadata": {},
   "outputs": [
    {
     "name": "stdout",
     "output_type": "stream",
     "text": [
      "Epoch 1/1\n",
      "2/2 [==============================] - 0s - loss: -4.0809     \n"
     ]
    },
    {
     "data": {
      "text/plain": [
       "<keras.callbacks.History at 0x110e74ac8>"
      ]
     },
     "execution_count": 108,
     "metadata": {},
     "output_type": "execute_result"
    }
   ],
   "source": [
    "def proper_loss_fn(y_true, y_pred):\n",
    "    product = y_true * y_pred\n",
    "    probs = K.sigmoid(product)\n",
    "    logs = K.log(probs)\n",
    "    return K.mean(logs)\n",
    "    \n",
    "model = Model(inputs=test_tensor, outputs=test_tensor)\n",
    "model.compile(optimizer='adam', loss=proper_loss_fn)\n",
    "model.fit(test_in, negative_labels, batch_size=1, epochs=1)"
   ]
  },
  {
   "cell_type": "code",
   "execution_count": 109,
   "metadata": {
    "collapsed": true
   },
   "outputs": [],
   "source": [
    "from keras.preprocessing import image\n",
    "\n",
    "x_dir = '../sample/x/'\n",
    "z_dir = '../sample/z/'\n",
    "\n",
    "def load_images(directory, dimension, n_images, suffix):\n",
    "    img_array = np.empty((n_images, dimension, dimension, 3))\n",
    "    for i in range(1, n_images + 1):\n",
    "        img = image.load_img(directory + str(i) + suffix, target_size=(dimension, dimension))\n",
    "        img_array[i - 1] = image.img_to_array(img)\n",
    "    return img_array\n",
    "\n",
    "x_images = load_images(x_dir, 255, 100, '.x.jpg')"
   ]
  },
  {
   "cell_type": "code",
   "execution_count": 110,
   "metadata": {
    "collapsed": true
   },
   "outputs": [],
   "source": [
    "from keras.preprocessing.image import ImageDataGenerator\n",
    "generator = ImageDataGenerator(featurewise_center=True, featurewise_std_normalization=True)\n",
    "generator.fit(x_images)\n",
    "processed_images = generator."
   ]
  },
  {
   "cell_type": "code",
   "execution_count": null,
   "metadata": {
    "collapsed": true
   },
   "outputs": [],
   "source": []
  }
 ],
 "metadata": {
  "kernelspec": {
   "display_name": "Python 3",
   "language": "python",
   "name": "python3"
  },
  "language_info": {
   "codemirror_mode": {
    "name": "ipython",
    "version": 3
   },
   "file_extension": ".py",
   "mimetype": "text/x-python",
   "name": "python",
   "nbconvert_exporter": "python",
   "pygments_lexer": "ipython3",
   "version": "3.5.3"
  }
 },
 "nbformat": 4,
 "nbformat_minor": 2
}
