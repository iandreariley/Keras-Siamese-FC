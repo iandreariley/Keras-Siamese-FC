{
 "cells": [
  {
   "cell_type": "markdown",
   "metadata": {},
   "source": [
    "# Siamese-FC"
   ]
  },
  {
   "cell_type": "code",
   "execution_count": 82,
   "metadata": {},
   "outputs": [],
   "source": [
    "%matplotlib inline\n",
    "\n",
    "import numpy as np\n",
    "import matplotlib.pyplot as plt\n",
    "\n",
    "import keras\n",
    "import tensorflow as tf\n",
    "from keras.layers import Input, Conv2D, BatchNormalization, MaxPool2D, Lambda, Reshape, Flatten\n",
    "from keras.models import Model\n",
    "from keras import backend as K\n",
    "from math import sqrt"
   ]
  },
  {
   "cell_type": "markdown",
   "metadata": {},
   "source": [
    "**Build Model**"
   ]
  },
  {
   "cell_type": "code",
   "execution_count": 171,
   "metadata": {},
   "outputs": [],
   "source": [
    "Z_SHAPE = (127, 127, 3)\n",
    "X_SHAPE = (255, 255, 3)\n",
    "\n",
    "def conv_layer(filters, kernel_dim, stride_len):\n",
    "    return [Conv2D(filters, kernel_dim, strides=stride_len,\n",
    "                  padding='valid', activation='relu', kernel_initializer='glorot_normal')]\n",
    "\n",
    "def conv_block(filters, kernel_dim, stride_len):\n",
    "    batch_norm = [BatchNormalization(axis=3)]\n",
    "    return conv_layer(filters, kernel_dim, stride_len) + batch_norm\n",
    "\n",
    "def max_pool():\n",
    "    return [MaxPool2D(pool_size=3, strides=2, padding='valid')]\n",
    "\n",
    "def alex_net_layers():\n",
    "    layers = []\n",
    "    layers += conv_block(48, 11, 2)\n",
    "    layers += max_pool()\n",
    "    layers += conv_block(128, 5, 1)\n",
    "    layers += max_pool()\n",
    "    layers += conv_block(48, 3, 1)\n",
    "    layers += conv_block(48, 3, 1)\n",
    "    layers += conv_layer(32, 3, 1)\n",
    "    return layers\n",
    "\n",
    "def apply_layers(x, layers):\n",
    "    out = x\n",
    "    for layer in layers:\n",
    "        out = layer(out)\n",
    "    return out\n",
    "\n",
    "def add_dimension(t):\n",
    "    return tf.reshape(t, (1,) + t.shape)\n",
    "\n",
    "def cross_correlation(inputs):\n",
    "    x = inputs[0]\n",
    "    x = tf.reshape(x, [1] + x.shape.as_list())\n",
    "    z = inputs[1]\n",
    "    z = tf.reshape(z, z.shape.as_list() + [1])\n",
    "    return tf.nn.convolution(x, z, padding='VALID', strides=(1,1))\n",
    "\n",
    "def x_corr_map(inputs):\n",
    "    # Note that dtype MUST be specified, otherwise TF will assert that the input and output structures are the same,\n",
    "    # which they most certainly are NOT.\n",
    "    return K.reshape(tf.map_fn(cross_correlation, inputs, dtype=tf.float32, infer_shape=False), shape=(-1,17,17))\n",
    "    \n",
    "def x_corr_layer():\n",
    "    return Lambda(x_corr_map, output_shape=(17, 17))\n",
    "\n",
    "def loss_fn(y_true, y_pred):\n",
    "    print('y_true shape: %s' % y_true.shape)\n",
    "    print('y_pred shape: %s' % y_pred.shape)\n",
    "    product = -y_true * y_pred\n",
    "    probs = 1 + K.clip(K.exp(product), 0, 1e9)\n",
    "    log_probs = K.log(probs)\n",
    "    return K.mean(K.flatten(log_probs), axis=-1)\n",
    "\n",
    "def loss_exp_fn(inputs):\n",
    "    y_true, y_pred = inputs\n",
    "    product = -y_true * y_pred\n",
    "    probs = 1 + K.clip(K.exp(product), 0, 1e9)\n",
    "    loss = K.log(probs)\n",
    "    return K.mean(K.flatten(loss), axis=-1)\n",
    "\n",
    "def binary_cross_entropy(inputs):\n",
    "    y_true, y_pred = inputs\n",
    "    return K.binary_crossentropy(y_pred, y_true)\n",
    "    \n",
    "def loss_exp():\n",
    "    return Lambda(loss_exp_fn)\n",
    "\n",
    "def make_model(x_shape, z_shape, w_loss=False):\n",
    "    exemplar = Input(shape=z_shape)\n",
    "    search = Input(shape=x_shape)\n",
    "    label_input = Input(shape=(17,17))\n",
    "\n",
    "    alex_net = alex_net_layers()\n",
    "\n",
    "    exemplar_features = apply_layers(exemplar, alex_net)\n",
    "    search_features = apply_layers(search, alex_net)\n",
    "    score_map = x_corr_layer()([search_features, exemplar_features])\n",
    "    \n",
    "    outputs = [score_map]\n",
    "    inputs = [search, exemplar]\n",
    "    \n",
    "    if w_loss:\n",
    "        loss_layer = loss_exp()([label_input,score_map])\n",
    "        outputs = outputs + [loss_layer]\n",
    "        inputs = inputs + [label_input]\n",
    "    model = Model(inputs=inputs, outputs=outputs)\n",
    "    return model\n",
    "    \n",
    "model = make_model(X_SHAPE, Z_SHAPE)"
   ]
  },
  {
   "cell_type": "markdown",
   "metadata": {},
   "source": [
    "**Load images as Numpy arrays**"
   ]
  },
  {
   "cell_type": "code",
   "execution_count": 84,
   "metadata": {
    "collapsed": true
   },
   "outputs": [],
   "source": [
    "from keras.preprocessing import image\n",
    "\n",
    "x_dir = '../sample/x/'\n",
    "z_dir = '../sample/z/'\n",
    "\n",
    "def load_images(directory, dimension, n_images, suffix):\n",
    "    img_array = np.empty((n_images, dimension, dimension, 3))\n",
    "    for i in range(1, n_images + 1):\n",
    "        img = image.load_img(directory + str(i) + suffix, target_size=(dimension, dimension))\n",
    "        img_array[i - 1] = image.img_to_array(img)\n",
    "    return img_array"
   ]
  },
  {
   "cell_type": "markdown",
   "metadata": {},
   "source": [
    "**Make label prototype for search images**"
   ]
  },
  {
   "cell_type": "code",
   "execution_count": 85,
   "metadata": {
    "collapsed": true
   },
   "outputs": [],
   "source": [
    "from math import ceil\n",
    "def inclusive_range(start, end):\n",
    "    return range(start, end + 1)\n",
    "\n",
    "def euclidean_distance(x1, y1, x2, y2):\n",
    "    return sqrt((x1 - x2)**2 + (y1 - y2)**2)\n",
    "\n",
    "# Create labels for a score map of size dim x dim, where the label of a score is positive for any cell within\n",
    "# radius of the center, and negative otherwise.\n",
    "def make_label(dim, radius):\n",
    "    label = np.full((dim, dim), -1)\n",
    "    center = int(dim / 2.0)\n",
    "    start = center - ceil(radius)\n",
    "    end = center + ceil(radius)\n",
    "    for i in inclusive_range(start, end):\n",
    "        for j in inclusive_range(start, end):\n",
    "            if euclidean_distance(i, j, center, center) <= radius:\n",
    "                label[i,j] = 1\n",
    "    return label\n",
    "\n",
    "# Creates a matrix of weights where the sum of the weights for each label in {-1, 1} is 0.5. Used to account for\n",
    "# the fact that, given a search image we may have more negative than positive examples or vice versa.\n",
    "def make_label_weights(labels):\n",
    "    values, counts = np.unique(labels, return_counts=True)\n",
    "    class_weights = {}\n",
    "    for i in range(len(values)):\n",
    "        class_weights[values[i]] = 0.5 / counts[i]\n",
    "    return class_weights"
   ]
  },
  {
   "cell_type": "markdown",
   "metadata": {},
   "source": [
    "**Loading and preprocessing images**"
   ]
  },
  {
   "cell_type": "code",
   "execution_count": 96,
   "metadata": {},
   "outputs": [
    {
     "name": "stdout",
     "output_type": "stream",
     "text": [
      "[[[[ 122.63988712  120.70739254  108.4214396 ]]]]\n",
      "(1, 1, 1, 3)\n",
      "[ -1.01203627e-14   9.27809142e-14   2.33398234e-13]\n",
      "[ 0.02205711  0.01812003  0.01516509]\n"
     ]
    }
   ],
   "source": [
    "x_images = load_images(x_dir, 255, 100, \".x.jpg\")\n",
    "z_images = load_images(z_dir, 127, 100, \".z.jpg\")\n",
    "color_means = np.mean(x_images, axis=(0,1,2), keepdims=True)\n",
    "print(color_means)\n",
    "print(color_means.shape)\n",
    "x_images -= color_means\n",
    "z_images -= color_means\n",
    "color_std_dev = np.std(x_images, axis=(0,1,2), keepdims=True)\n",
    "x_images /= color_std_dev\n",
    "z_images /= color_std_dev\n",
    "print(np.mean(x_images, axis=(0,1,2)))\n",
    "print(np.mean(z_images, axis=(0,1,2)))"
   ]
  },
  {
   "cell_type": "code",
   "execution_count": 172,
   "metadata": {},
   "outputs": [
    {
     "name": "stdout",
     "output_type": "stream",
     "text": [
      "(100, 17, 17)\n",
      "y_true shape: (?, ?, ?)\n",
      "y_pred shape: (?, 17, 17)\n"
     ]
    },
    {
     "data": {
      "text/plain": [
       "array([[[ 0.31943849,  0.37116632,  0.40889218,  0.41777852,  0.41824475,\n",
       "          0.41410559,  0.41518939,  0.39951226,  0.38638726,  0.36784509,\n",
       "          0.33717319,  0.30038488,  0.2579596 ,  0.22084203,  0.17876056,\n",
       "          0.1449593 ,  0.11471835],\n",
       "        [ 0.46942252,  0.53352249,  0.59080386,  0.61262941,  0.61821938,\n",
       "          0.60432863,  0.59714681,  0.58119333,  0.57119733,  0.54977381,\n",
       "          0.50063992,  0.44444653,  0.38483822,  0.32954618,  0.26359183,\n",
       "          0.21225727,  0.16416484],\n",
       "        [ 0.60206139,  0.68689287,  0.76265359,  0.78997684,  0.79351085,\n",
       "          0.7685867 ,  0.75375116,  0.74326491,  0.72840017,  0.71222895,\n",
       "          0.68428606,  0.62534833,  0.55979621,  0.4839204 ,  0.39999384,\n",
       "          0.31312707,  0.23588951],\n",
       "        [ 0.70063531,  0.7926904 ,  0.8828299 ,  0.91291738,  0.9120338 ,\n",
       "          0.86538696,  0.83185041,  0.81629592,  0.81188321,  0.80048126,\n",
       "          0.79600173,  0.77424455,  0.71541548,  0.63321853,  0.54190302,\n",
       "          0.45065755,  0.34023365],\n",
       "        [ 0.79631531,  0.89521283,  0.96326643,  0.99281234,  0.98742104,\n",
       "          0.9444623 ,  0.90211385,  0.86447513,  0.85276383,  0.84665537,\n",
       "          0.86596894,  0.86714739,  0.84991801,  0.78426194,  0.69244069,\n",
       "          0.58472395,  0.44430497],\n",
       "        [ 0.84975362,  0.97239709,  1.02062869,  1.03125298,  1.00834537,\n",
       "          0.96028012,  0.92535031,  0.90800613,  0.90184832,  0.89849919,\n",
       "          0.93681115,  0.95682299,  0.96427512,  0.91073596,  0.80978119,\n",
       "          0.69462538,  0.5420652 ],\n",
       "        [ 0.87802213,  1.00385642,  1.04875863,  1.03095126,  0.98949635,\n",
       "          0.95109493,  0.93054354,  0.94192326,  0.97145569,  0.96798927,\n",
       "          1.01185203,  1.03133059,  1.02894926,  0.98821086,  0.89263105,\n",
       "          0.76895487,  0.60769737],\n",
       "        [ 0.87423301,  0.98599398,  1.03623569,  1.02314818,  0.99486899,\n",
       "          0.99390262,  0.9916662 ,  1.05232346,  1.13451612,  1.07992733,\n",
       "          1.06420469,  1.06611705,  1.04363275,  1.01412261,  0.94004977,\n",
       "          0.82065511,  0.66310132],\n",
       "        [ 0.79221272,  0.88527751,  0.92902184,  0.93157363,  0.94495559,\n",
       "          0.97698867,  0.99969536,  1.13276887,  1.34349906,  1.21562052,\n",
       "          1.13553095,  1.10566831,  1.05891275,  1.02030182,  0.95773536,\n",
       "          0.83192879,  0.67691964],\n",
       "        [ 0.68786371,  0.77629066,  0.83264524,  0.8422935 ,  0.86428863,\n",
       "          0.89272416,  0.91337371,  1.00332248,  1.12778628,  1.13527167,\n",
       "          1.13783038,  1.12182915,  1.06948364,  1.03304744,  0.96629667,\n",
       "          0.83499652,  0.66997641],\n",
       "        [ 0.55579907,  0.63660049,  0.70855087,  0.74180025,  0.75330037,\n",
       "          0.78803235,  0.82034713,  0.88073593,  0.97250354,  1.03714705,\n",
       "          1.11000872,  1.12636805,  1.09629703,  1.07366884,  1.00067985,\n",
       "          0.8567636 ,  0.68275082],\n",
       "        [ 0.44431031,  0.5138858 ,  0.5912255 ,  0.62491053,  0.63556296,\n",
       "          0.67218435,  0.7145834 ,  0.76708627,  0.84147906,  0.92796695,\n",
       "          1.01060939,  1.05016816,  1.04044616,  1.01186526,  0.9455635 ,\n",
       "          0.82024986,  0.66217816],\n",
       "        [ 0.34452769,  0.40072772,  0.46820167,  0.50190961,  0.51099867,\n",
       "          0.55093753,  0.60580075,  0.6561287 ,  0.71234709,  0.78452176,\n",
       "          0.85113871,  0.89792967,  0.90736234,  0.88556939,  0.82842743,\n",
       "          0.74334049,  0.62840265],\n",
       "        [ 0.24462244,  0.29120594,  0.34725046,  0.37085292,  0.39145884,\n",
       "          0.44231808,  0.51001072,  0.56390792,  0.60297954,  0.66947812,\n",
       "          0.71142161,  0.73351592,  0.74931949,  0.74670064,  0.70703709,\n",
       "          0.63314176,  0.54485786],\n",
       "        [ 0.16980469,  0.20213756,  0.2348291 ,  0.25845572,  0.29387593,\n",
       "          0.34016627,  0.39848191,  0.4456543 ,  0.49230438,  0.55012798,\n",
       "          0.58129615,  0.59213126,  0.60713166,  0.59912318,  0.56077957,\n",
       "          0.50146246,  0.43041447],\n",
       "        [ 0.11083432,  0.13162237,  0.15221868,  0.17084749,  0.20373268,\n",
       "          0.23616062,  0.28327304,  0.32412946,  0.37132722,  0.42121631,\n",
       "          0.44813234,  0.46020895,  0.46486974,  0.45967519,  0.4284786 ,\n",
       "          0.37671   ,  0.31877881],\n",
       "        [ 0.07726531,  0.08931759,  0.10427882,  0.11962436,  0.14268444,\n",
       "          0.15985806,  0.18443356,  0.20540147,  0.23302014,  0.26078337,\n",
       "          0.2797339 ,  0.28965986,  0.29378784,  0.29206663,  0.27532274,\n",
       "          0.24599113,  0.20936505]],\n",
       "\n",
       "       [[ 0.35576835,  0.36287123,  0.36361641,  0.36475357,  0.36728951,\n",
       "          0.36980832,  0.36932617,  0.36941436,  0.37547684,  0.37136176,\n",
       "          0.35664973,  0.33684033,  0.31775349,  0.29387748,  0.26930779,\n",
       "          0.25056455,  0.23850879],\n",
       "        [ 0.43842959,  0.44661883,  0.44578743,  0.44784576,  0.45609969,\n",
       "          0.4657301 ,  0.46811059,  0.46756858,  0.4770343 ,  0.47692752,\n",
       "          0.44818711,  0.40757799,  0.37065649,  0.33044812,  0.2901867 ,\n",
       "          0.25858343,  0.23980328],\n",
       "        [ 0.522057  ,  0.52650875,  0.52662265,  0.53283834,  0.55269665,\n",
       "          0.56861734,  0.56710082,  0.56152719,  0.56601489,  0.56348729,\n",
       "          0.52203286,  0.46161264,  0.40670532,  0.35174432,  0.3012605 ,\n",
       "          0.26316604,  0.24192172],\n",
       "        [ 0.57456195,  0.57659173,  0.58332479,  0.59382689,  0.62022161,\n",
       "          0.63073182,  0.6218577 ,  0.60929871,  0.60522461,  0.59046495,\n",
       "          0.54013151,  0.47454911,  0.41617265,  0.36053377,  0.31142125,\n",
       "          0.27721924,  0.25381097],\n",
       "        [ 0.60335499,  0.61037385,  0.62179673,  0.63079613,  0.64305735,\n",
       "          0.64599276,  0.64507002,  0.63500464,  0.61908883,  0.58783346,\n",
       "          0.54656261,  0.48968795,  0.42925516,  0.37873822,  0.32495061,\n",
       "          0.28601003,  0.26073793],\n",
       "        [ 0.61625242,  0.63326752,  0.65475643,  0.66038656,  0.658512  ,\n",
       "          0.66066188,  0.65729433,  0.65674126,  0.65547538,  0.63219595,\n",
       "          0.59574354,  0.54521275,  0.48450202,  0.41657779,  0.34871581,\n",
       "          0.298978  ,  0.26798418],\n",
       "        [ 0.60711288,  0.64140868,  0.68000519,  0.69566286,  0.69189656,\n",
       "          0.70707124,  0.72036201,  0.73003829,  0.74696541,  0.73452234,\n",
       "          0.691315  ,  0.63468248,  0.56544173,  0.48167914,  0.39293754,\n",
       "          0.31582743,  0.27286825],\n",
       "        [ 0.62037301,  0.66160977,  0.70775986,  0.73228317,  0.74232584,\n",
       "          0.76197356,  0.79948378,  0.83673954,  0.90188092,  0.86345434,\n",
       "          0.8028028 ,  0.72271323,  0.62999159,  0.52964681,  0.41980019,\n",
       "          0.32120606,  0.2717357 ],\n",
       "        [ 0.64091694,  0.68595934,  0.73070931,  0.75849718,  0.77718925,\n",
       "          0.81658089,  0.8774606 ,  0.95226061,  1.0834322 ,  0.96175611,\n",
       "          0.86026442,  0.76385552,  0.65212166,  0.5361836 ,  0.43209857,\n",
       "          0.33796215,  0.28065282],\n",
       "        [ 0.64880049,  0.70098621,  0.73460233,  0.77129686,  0.80122697,\n",
       "          0.84878385,  0.90949881,  0.94963086,  0.9876343 ,  0.92401803,\n",
       "          0.84897476,  0.76042962,  0.64613748,  0.53171158,  0.43606967,\n",
       "          0.3460736 ,  0.28560856],\n",
       "        [ 0.61135948,  0.67196673,  0.71264309,  0.74026692,  0.77962428,\n",
       "          0.82119954,  0.859227  ,  0.87359166,  0.85980159,  0.82425612,\n",
       "          0.77243197,  0.70115834,  0.59195536,  0.50062317,  0.41528904,\n",
       "          0.33341813,  0.28026763],\n",
       "        [ 0.53532785,  0.58553761,  0.62447411,  0.65648925,  0.69703507,\n",
       "          0.7355113 ,  0.76920485,  0.76504743,  0.74521595,  0.7149654 ,\n",
       "          0.66899389,  0.61457491,  0.52690172,  0.45423567,  0.37968841,\n",
       "          0.30986193,  0.26617807],\n",
       "        [ 0.44887501,  0.4798882 ,  0.50816607,  0.53990912,  0.57421482,\n",
       "          0.60341156,  0.63215452,  0.62442815,  0.61069477,  0.60833699,\n",
       "          0.56529969,  0.51624501,  0.45456824,  0.39470807,  0.3314912 ,\n",
       "          0.27830577,  0.24935183],\n",
       "        [ 0.38103709,  0.39626032,  0.41153535,  0.43208885,  0.45989543,\n",
       "          0.48390567,  0.50051171,  0.49862984,  0.50074166,  0.4962495 ,\n",
       "          0.45909476,  0.42329246,  0.37700754,  0.32758391,  0.28803459,\n",
       "          0.26073712,  0.24230418],\n",
       "        [ 0.33029038,  0.34166473,  0.3457098 ,  0.35958895,  0.37888879,\n",
       "          0.3926163 ,  0.40508178,  0.40819657,  0.40990373,  0.40021914,\n",
       "          0.37367973,  0.34621045,  0.31827182,  0.28626701,  0.26349127,\n",
       "          0.25186241,  0.24114294],\n",
       "        [ 0.29442924,  0.30528858,  0.30887017,  0.31608924,  0.32880348,\n",
       "          0.33595002,  0.34106866,  0.34121764,  0.33872122,  0.33508059,\n",
       "          0.31937936,  0.299283  ,  0.28680581,  0.26919505,  0.25329626,\n",
       "          0.2451151 ,  0.23871723],\n",
       "        [ 0.2665    ,  0.27374804,  0.27669013,  0.28179109,  0.28699741,\n",
       "          0.2910746 ,  0.29155838,  0.28992742,  0.28963211,  0.28714991,\n",
       "          0.28077579,  0.26986536,  0.2622737 ,  0.25265911,  0.24236134,\n",
       "          0.23748595,  0.23408705]]], dtype=float32)"
      ]
     },
     "execution_count": 172,
     "metadata": {},
     "output_type": "execute_result"
    }
   ],
   "source": [
    "# constants\n",
    "R = 16\n",
    "batch_size = 1\n",
    "response_size = 17\n",
    "data_size = 100\n",
    "response_stride = 6.0\n",
    "label = make_label(response_size, R / response_stride)\n",
    "labels = np.empty((data_size,) + label.shape)\n",
    "labels[:] = label\n",
    "print(labels.shape)\n",
    "\n",
    "model = make_model(X_SHAPE, Z_SHAPE, False)\n",
    "model.compile(optimizer='adam', loss=loss_fn, metrics=['accuracy'])\n",
    "model.predict([x_images[0:2], z_images[0:2]])"
   ]
  },
  {
   "cell_type": "markdown",
   "metadata": {},
   "source": [
    "**For some reason, loss does not change at all, currently. wtf?**"
   ]
  },
  {
   "cell_type": "code",
   "execution_count": 173,
   "metadata": {},
   "outputs": [
    {
     "name": "stdout",
     "output_type": "stream",
     "text": [
      "Epoch 1/5\n",
      "100/100 [==============================] - 17s - loss: 2.1751 - acc: 0.6529    \n",
      "Epoch 2/5\n",
      " 48/100 [=============>................] - ETA: 6s - loss: 0.6931 - acc: 0.7059"
     ]
    },
    {
     "ename": "KeyboardInterrupt",
     "evalue": "",
     "output_type": "error",
     "traceback": [
      "\u001b[0;31m---------------------------------------------------------------------------\u001b[0m",
      "\u001b[0;31mKeyboardInterrupt\u001b[0m                         Traceback (most recent call last)",
      "\u001b[0;32m<ipython-input-173-4ddb2a834345>\u001b[0m in \u001b[0;36m<module>\u001b[0;34m()\u001b[0m\n\u001b[0;32m----> 1\u001b[0;31m \u001b[0mmodel\u001b[0m\u001b[0;34m.\u001b[0m\u001b[0mfit\u001b[0m\u001b[0;34m(\u001b[0m\u001b[0;34m[\u001b[0m\u001b[0mx_images\u001b[0m\u001b[0;34m,\u001b[0m \u001b[0mz_images\u001b[0m\u001b[0;34m]\u001b[0m\u001b[0;34m,\u001b[0m \u001b[0mlabels\u001b[0m\u001b[0;34m,\u001b[0m \u001b[0mbatch_size\u001b[0m\u001b[0;34m=\u001b[0m\u001b[0;36m8\u001b[0m\u001b[0;34m,\u001b[0m \u001b[0mepochs\u001b[0m\u001b[0;34m=\u001b[0m\u001b[0;36m5\u001b[0m\u001b[0;34m)\u001b[0m\u001b[0;34m\u001b[0m\u001b[0m\n\u001b[0m",
      "\u001b[0;32m/Users/ianriley/anaconda/envs/tf/lib/python3.5/site-packages/keras/engine/training.py\u001b[0m in \u001b[0;36mfit\u001b[0;34m(self, x, y, batch_size, epochs, verbose, callbacks, validation_split, validation_data, shuffle, class_weight, sample_weight, initial_epoch, **kwargs)\u001b[0m\n\u001b[1;32m   1483\u001b[0m                               \u001b[0mval_f\u001b[0m\u001b[0;34m=\u001b[0m\u001b[0mval_f\u001b[0m\u001b[0;34m,\u001b[0m \u001b[0mval_ins\u001b[0m\u001b[0;34m=\u001b[0m\u001b[0mval_ins\u001b[0m\u001b[0;34m,\u001b[0m \u001b[0mshuffle\u001b[0m\u001b[0;34m=\u001b[0m\u001b[0mshuffle\u001b[0m\u001b[0;34m,\u001b[0m\u001b[0;34m\u001b[0m\u001b[0m\n\u001b[1;32m   1484\u001b[0m                               \u001b[0mcallback_metrics\u001b[0m\u001b[0;34m=\u001b[0m\u001b[0mcallback_metrics\u001b[0m\u001b[0;34m,\u001b[0m\u001b[0;34m\u001b[0m\u001b[0m\n\u001b[0;32m-> 1485\u001b[0;31m                               initial_epoch=initial_epoch)\n\u001b[0m\u001b[1;32m   1486\u001b[0m \u001b[0;34m\u001b[0m\u001b[0m\n\u001b[1;32m   1487\u001b[0m     \u001b[0;32mdef\u001b[0m \u001b[0mevaluate\u001b[0m\u001b[0;34m(\u001b[0m\u001b[0mself\u001b[0m\u001b[0;34m,\u001b[0m \u001b[0mx\u001b[0m\u001b[0;34m,\u001b[0m \u001b[0my\u001b[0m\u001b[0;34m,\u001b[0m \u001b[0mbatch_size\u001b[0m\u001b[0;34m=\u001b[0m\u001b[0;36m32\u001b[0m\u001b[0;34m,\u001b[0m \u001b[0mverbose\u001b[0m\u001b[0;34m=\u001b[0m\u001b[0;36m1\u001b[0m\u001b[0;34m,\u001b[0m \u001b[0msample_weight\u001b[0m\u001b[0;34m=\u001b[0m\u001b[0;32mNone\u001b[0m\u001b[0;34m)\u001b[0m\u001b[0;34m:\u001b[0m\u001b[0;34m\u001b[0m\u001b[0m\n",
      "\u001b[0;32m/Users/ianriley/anaconda/envs/tf/lib/python3.5/site-packages/keras/engine/training.py\u001b[0m in \u001b[0;36m_fit_loop\u001b[0;34m(self, f, ins, out_labels, batch_size, epochs, verbose, callbacks, val_f, val_ins, shuffle, callback_metrics, initial_epoch)\u001b[0m\n\u001b[1;32m   1138\u001b[0m                 \u001b[0mbatch_logs\u001b[0m\u001b[0;34m[\u001b[0m\u001b[0;34m'size'\u001b[0m\u001b[0;34m]\u001b[0m \u001b[0;34m=\u001b[0m \u001b[0mlen\u001b[0m\u001b[0;34m(\u001b[0m\u001b[0mbatch_ids\u001b[0m\u001b[0;34m)\u001b[0m\u001b[0;34m\u001b[0m\u001b[0m\n\u001b[1;32m   1139\u001b[0m                 \u001b[0mcallbacks\u001b[0m\u001b[0;34m.\u001b[0m\u001b[0mon_batch_begin\u001b[0m\u001b[0;34m(\u001b[0m\u001b[0mbatch_index\u001b[0m\u001b[0;34m,\u001b[0m \u001b[0mbatch_logs\u001b[0m\u001b[0;34m)\u001b[0m\u001b[0;34m\u001b[0m\u001b[0m\n\u001b[0;32m-> 1140\u001b[0;31m                 \u001b[0mouts\u001b[0m \u001b[0;34m=\u001b[0m \u001b[0mf\u001b[0m\u001b[0;34m(\u001b[0m\u001b[0mins_batch\u001b[0m\u001b[0;34m)\u001b[0m\u001b[0;34m\u001b[0m\u001b[0m\n\u001b[0m\u001b[1;32m   1141\u001b[0m                 \u001b[0;32mif\u001b[0m \u001b[0;32mnot\u001b[0m \u001b[0misinstance\u001b[0m\u001b[0;34m(\u001b[0m\u001b[0mouts\u001b[0m\u001b[0;34m,\u001b[0m \u001b[0mlist\u001b[0m\u001b[0;34m)\u001b[0m\u001b[0;34m:\u001b[0m\u001b[0;34m\u001b[0m\u001b[0m\n\u001b[1;32m   1142\u001b[0m                     \u001b[0mouts\u001b[0m \u001b[0;34m=\u001b[0m \u001b[0;34m[\u001b[0m\u001b[0mouts\u001b[0m\u001b[0;34m]\u001b[0m\u001b[0;34m\u001b[0m\u001b[0m\n",
      "\u001b[0;32m/Users/ianriley/anaconda/envs/tf/lib/python3.5/site-packages/keras/backend/tensorflow_backend.py\u001b[0m in \u001b[0;36m__call__\u001b[0;34m(self, inputs)\u001b[0m\n\u001b[1;32m   2071\u001b[0m         \u001b[0msession\u001b[0m \u001b[0;34m=\u001b[0m \u001b[0mget_session\u001b[0m\u001b[0;34m(\u001b[0m\u001b[0;34m)\u001b[0m\u001b[0;34m\u001b[0m\u001b[0m\n\u001b[1;32m   2072\u001b[0m         updated = session.run(self.outputs + [self.updates_op],\n\u001b[0;32m-> 2073\u001b[0;31m                               feed_dict=feed_dict)\n\u001b[0m\u001b[1;32m   2074\u001b[0m         \u001b[0;32mreturn\u001b[0m \u001b[0mupdated\u001b[0m\u001b[0;34m[\u001b[0m\u001b[0;34m:\u001b[0m\u001b[0mlen\u001b[0m\u001b[0;34m(\u001b[0m\u001b[0mself\u001b[0m\u001b[0;34m.\u001b[0m\u001b[0moutputs\u001b[0m\u001b[0;34m)\u001b[0m\u001b[0;34m]\u001b[0m\u001b[0;34m\u001b[0m\u001b[0m\n\u001b[1;32m   2075\u001b[0m \u001b[0;34m\u001b[0m\u001b[0m\n",
      "\u001b[0;32m/Users/ianriley/anaconda/envs/tf/lib/python3.5/site-packages/tensorflow/python/client/session.py\u001b[0m in \u001b[0;36mrun\u001b[0;34m(self, fetches, feed_dict, options, run_metadata)\u001b[0m\n\u001b[1;32m    765\u001b[0m     \u001b[0;32mtry\u001b[0m\u001b[0;34m:\u001b[0m\u001b[0;34m\u001b[0m\u001b[0m\n\u001b[1;32m    766\u001b[0m       result = self._run(None, fetches, feed_dict, options_ptr,\n\u001b[0;32m--> 767\u001b[0;31m                          run_metadata_ptr)\n\u001b[0m\u001b[1;32m    768\u001b[0m       \u001b[0;32mif\u001b[0m \u001b[0mrun_metadata\u001b[0m\u001b[0;34m:\u001b[0m\u001b[0;34m\u001b[0m\u001b[0m\n\u001b[1;32m    769\u001b[0m         \u001b[0mproto_data\u001b[0m \u001b[0;34m=\u001b[0m \u001b[0mtf_session\u001b[0m\u001b[0;34m.\u001b[0m\u001b[0mTF_GetBuffer\u001b[0m\u001b[0;34m(\u001b[0m\u001b[0mrun_metadata_ptr\u001b[0m\u001b[0;34m)\u001b[0m\u001b[0;34m\u001b[0m\u001b[0m\n",
      "\u001b[0;32m/Users/ianriley/anaconda/envs/tf/lib/python3.5/site-packages/tensorflow/python/client/session.py\u001b[0m in \u001b[0;36m_run\u001b[0;34m(self, handle, fetches, feed_dict, options, run_metadata)\u001b[0m\n\u001b[1;32m    963\u001b[0m     \u001b[0;32mif\u001b[0m \u001b[0mfinal_fetches\u001b[0m \u001b[0;32mor\u001b[0m \u001b[0mfinal_targets\u001b[0m\u001b[0;34m:\u001b[0m\u001b[0;34m\u001b[0m\u001b[0m\n\u001b[1;32m    964\u001b[0m       results = self._do_run(handle, final_targets, final_fetches,\n\u001b[0;32m--> 965\u001b[0;31m                              feed_dict_string, options, run_metadata)\n\u001b[0m\u001b[1;32m    966\u001b[0m     \u001b[0;32melse\u001b[0m\u001b[0;34m:\u001b[0m\u001b[0;34m\u001b[0m\u001b[0m\n\u001b[1;32m    967\u001b[0m       \u001b[0mresults\u001b[0m \u001b[0;34m=\u001b[0m \u001b[0;34m[\u001b[0m\u001b[0;34m]\u001b[0m\u001b[0;34m\u001b[0m\u001b[0m\n",
      "\u001b[0;32m/Users/ianriley/anaconda/envs/tf/lib/python3.5/site-packages/tensorflow/python/client/session.py\u001b[0m in \u001b[0;36m_do_run\u001b[0;34m(self, handle, target_list, fetch_list, feed_dict, options, run_metadata)\u001b[0m\n\u001b[1;32m   1013\u001b[0m     \u001b[0;32mif\u001b[0m \u001b[0mhandle\u001b[0m \u001b[0;32mis\u001b[0m \u001b[0;32mNone\u001b[0m\u001b[0;34m:\u001b[0m\u001b[0;34m\u001b[0m\u001b[0m\n\u001b[1;32m   1014\u001b[0m       return self._do_call(_run_fn, self._session, feed_dict, fetch_list,\n\u001b[0;32m-> 1015\u001b[0;31m                            target_list, options, run_metadata)\n\u001b[0m\u001b[1;32m   1016\u001b[0m     \u001b[0;32melse\u001b[0m\u001b[0;34m:\u001b[0m\u001b[0;34m\u001b[0m\u001b[0m\n\u001b[1;32m   1017\u001b[0m       return self._do_call(_prun_fn, self._session, handle, feed_dict,\n",
      "\u001b[0;32m/Users/ianriley/anaconda/envs/tf/lib/python3.5/site-packages/tensorflow/python/client/session.py\u001b[0m in \u001b[0;36m_do_call\u001b[0;34m(self, fn, *args)\u001b[0m\n\u001b[1;32m   1020\u001b[0m   \u001b[0;32mdef\u001b[0m \u001b[0m_do_call\u001b[0m\u001b[0;34m(\u001b[0m\u001b[0mself\u001b[0m\u001b[0;34m,\u001b[0m \u001b[0mfn\u001b[0m\u001b[0;34m,\u001b[0m \u001b[0;34m*\u001b[0m\u001b[0margs\u001b[0m\u001b[0;34m)\u001b[0m\u001b[0;34m:\u001b[0m\u001b[0;34m\u001b[0m\u001b[0m\n\u001b[1;32m   1021\u001b[0m     \u001b[0;32mtry\u001b[0m\u001b[0;34m:\u001b[0m\u001b[0;34m\u001b[0m\u001b[0m\n\u001b[0;32m-> 1022\u001b[0;31m       \u001b[0;32mreturn\u001b[0m \u001b[0mfn\u001b[0m\u001b[0;34m(\u001b[0m\u001b[0;34m*\u001b[0m\u001b[0margs\u001b[0m\u001b[0;34m)\u001b[0m\u001b[0;34m\u001b[0m\u001b[0m\n\u001b[0m\u001b[1;32m   1023\u001b[0m     \u001b[0;32mexcept\u001b[0m \u001b[0merrors\u001b[0m\u001b[0;34m.\u001b[0m\u001b[0mOpError\u001b[0m \u001b[0;32mas\u001b[0m \u001b[0me\u001b[0m\u001b[0;34m:\u001b[0m\u001b[0;34m\u001b[0m\u001b[0m\n\u001b[1;32m   1024\u001b[0m       \u001b[0mmessage\u001b[0m \u001b[0;34m=\u001b[0m \u001b[0mcompat\u001b[0m\u001b[0;34m.\u001b[0m\u001b[0mas_text\u001b[0m\u001b[0;34m(\u001b[0m\u001b[0me\u001b[0m\u001b[0;34m.\u001b[0m\u001b[0mmessage\u001b[0m\u001b[0;34m)\u001b[0m\u001b[0;34m\u001b[0m\u001b[0m\n",
      "\u001b[0;32m/Users/ianriley/anaconda/envs/tf/lib/python3.5/site-packages/tensorflow/python/client/session.py\u001b[0m in \u001b[0;36m_run_fn\u001b[0;34m(session, feed_dict, fetch_list, target_list, options, run_metadata)\u001b[0m\n\u001b[1;32m   1002\u001b[0m         return tf_session.TF_Run(session, options,\n\u001b[1;32m   1003\u001b[0m                                  \u001b[0mfeed_dict\u001b[0m\u001b[0;34m,\u001b[0m \u001b[0mfetch_list\u001b[0m\u001b[0;34m,\u001b[0m \u001b[0mtarget_list\u001b[0m\u001b[0;34m,\u001b[0m\u001b[0;34m\u001b[0m\u001b[0m\n\u001b[0;32m-> 1004\u001b[0;31m                                  status, run_metadata)\n\u001b[0m\u001b[1;32m   1005\u001b[0m \u001b[0;34m\u001b[0m\u001b[0m\n\u001b[1;32m   1006\u001b[0m     \u001b[0;32mdef\u001b[0m \u001b[0m_prun_fn\u001b[0m\u001b[0;34m(\u001b[0m\u001b[0msession\u001b[0m\u001b[0;34m,\u001b[0m \u001b[0mhandle\u001b[0m\u001b[0;34m,\u001b[0m \u001b[0mfeed_dict\u001b[0m\u001b[0;34m,\u001b[0m \u001b[0mfetch_list\u001b[0m\u001b[0;34m)\u001b[0m\u001b[0;34m:\u001b[0m\u001b[0;34m\u001b[0m\u001b[0m\n",
      "\u001b[0;31mKeyboardInterrupt\u001b[0m: "
     ]
    }
   ],
   "source": [
    "model.fit([x_images, z_images], labels, batch_size=8, epochs=5)"
   ]
  },
  {
   "cell_type": "code",
   "execution_count": 72,
   "metadata": {},
   "outputs": [
    {
     "data": {
      "text/plain": [
       "array([[[ 0.,  0.,  0.,  0.,  0.,  0.,  0.,  0.,  0.,  0.,  0.,  0.,  0.,\n",
       "          0.,  0.,  0.,  0.],\n",
       "        [ 0.,  0.,  0.,  0.,  0.,  0.,  0.,  0.,  0.,  0.,  0.,  0.,  0.,\n",
       "          0.,  0.,  0.,  0.],\n",
       "        [ 0.,  0.,  0.,  0.,  0.,  0.,  0.,  0.,  0.,  0.,  0.,  0.,  0.,\n",
       "          0.,  0.,  0.,  0.],\n",
       "        [ 0.,  0.,  0.,  0.,  0.,  0.,  0.,  0.,  0.,  0.,  0.,  0.,  0.,\n",
       "          0.,  0.,  0.,  0.],\n",
       "        [ 0.,  0.,  0.,  0.,  0.,  0.,  0.,  0.,  0.,  0.,  0.,  0.,  0.,\n",
       "          0.,  0.,  0.,  0.],\n",
       "        [ 0.,  0.,  0.,  0.,  0.,  0.,  0.,  0.,  0.,  0.,  0.,  0.,  0.,\n",
       "          0.,  0.,  0.,  0.],\n",
       "        [ 0.,  0.,  0.,  0.,  0.,  0.,  0.,  0.,  0.,  0.,  0.,  0.,  0.,\n",
       "          0.,  0.,  0.,  0.],\n",
       "        [ 0.,  0.,  0.,  0.,  0.,  0.,  0.,  0.,  0.,  0.,  0.,  0.,  0.,\n",
       "          0.,  0.,  0.,  0.],\n",
       "        [ 0.,  0.,  0.,  0.,  0.,  0.,  0.,  0.,  0.,  0.,  0.,  0.,  0.,\n",
       "          0.,  0.,  0.,  0.],\n",
       "        [ 0.,  0.,  0.,  0.,  0.,  0.,  0.,  0.,  0.,  0.,  0.,  0.,  0.,\n",
       "          0.,  0.,  0.,  0.],\n",
       "        [ 0.,  0.,  0.,  0.,  0.,  0.,  0.,  0.,  0.,  0.,  0.,  0.,  0.,\n",
       "          0.,  0.,  0.,  0.],\n",
       "        [ 0.,  0.,  0.,  0.,  0.,  0.,  0.,  0.,  0.,  0.,  0.,  0.,  0.,\n",
       "          0.,  0.,  0.,  0.],\n",
       "        [ 0.,  0.,  0.,  0.,  0.,  0.,  0.,  0.,  0.,  0.,  0.,  0.,  0.,\n",
       "          0.,  0.,  0.,  0.],\n",
       "        [ 0.,  0.,  0.,  0.,  0.,  0.,  0.,  0.,  0.,  0.,  0.,  0.,  0.,\n",
       "          0.,  0.,  0.,  0.],\n",
       "        [ 0.,  0.,  0.,  0.,  0.,  0.,  0.,  0.,  0.,  0.,  0.,  0.,  0.,\n",
       "          0.,  0.,  0.,  0.],\n",
       "        [ 0.,  0.,  0.,  0.,  0.,  0.,  0.,  0.,  0.,  0.,  0.,  0.,  0.,\n",
       "          0.,  0.,  0.,  0.],\n",
       "        [ 0.,  0.,  0.,  0.,  0.,  0.,  0.,  0.,  0.,  0.,  0.,  0.,  0.,\n",
       "          0.,  0.,  0.,  0.]]], dtype=float32)"
      ]
     },
     "execution_count": 72,
     "metadata": {},
     "output_type": "execute_result"
    }
   ],
   "source": [
    "model.predict([x_images[0:1], z_images[0:1]])"
   ]
  },
  {
   "cell_type": "code",
   "execution_count": 73,
   "metadata": {},
   "outputs": [
    {
     "name": "stdout",
     "output_type": "stream",
     "text": [
      "____________________________________________________________________________________________________\n",
      "Layer (type)                     Output Shape          Param #     Connected to                     \n",
      "====================================================================================================\n",
      "input_56 (InputLayer)            (None, 255, 255, 3)   0                                            \n",
      "____________________________________________________________________________________________________\n",
      "input_55 (InputLayer)            (None, 127, 127, 3)   0                                            \n",
      "____________________________________________________________________________________________________\n",
      "conv2d_136 (Conv2D)              multiple              17472                                        \n",
      "____________________________________________________________________________________________________\n",
      "batch_normalization_109 (BatchNo multiple              192                                          \n",
      "____________________________________________________________________________________________________\n",
      "max_pooling2d_55 (MaxPooling2D)  multiple              0                                            \n",
      "____________________________________________________________________________________________________\n",
      "conv2d_137 (Conv2D)              multiple              153728                                       \n",
      "____________________________________________________________________________________________________\n",
      "batch_normalization_110 (BatchNo multiple              512                                          \n",
      "____________________________________________________________________________________________________\n",
      "max_pooling2d_56 (MaxPooling2D)  multiple              0                                            \n",
      "____________________________________________________________________________________________________\n",
      "conv2d_138 (Conv2D)              multiple              55344                                        \n",
      "____________________________________________________________________________________________________\n",
      "batch_normalization_111 (BatchNo multiple              192                                          \n",
      "____________________________________________________________________________________________________\n",
      "conv2d_139 (Conv2D)              multiple              20784                                        \n",
      "____________________________________________________________________________________________________\n",
      "batch_normalization_112 (BatchNo multiple              192                                          \n",
      "____________________________________________________________________________________________________\n",
      "conv2d_140 (Conv2D)              multiple              13856                                        \n",
      "____________________________________________________________________________________________________\n",
      "lambda_28 (Lambda)               (None, 17, 17)        0                                            \n",
      "====================================================================================================\n",
      "Total params: 262,272.0\n",
      "Trainable params: 261,728.0\n",
      "Non-trainable params: 544.0\n",
      "____________________________________________________________________________________________________\n"
     ]
    }
   ],
   "source": [
    "model.summary()"
   ]
  },
  {
   "cell_type": "code",
   "execution_count": 79,
   "metadata": {},
   "outputs": [
    {
     "data": {
      "text/plain": [
       "(100, 255, 255, 3)"
      ]
     },
     "execution_count": 79,
     "metadata": {},
     "output_type": "execute_result"
    }
   ],
   "source": [
    "x_images.shape"
   ]
  },
  {
   "cell_type": "code",
   "execution_count": 81,
   "metadata": {},
   "outputs": [
    {
     "name": "stdout",
     "output_type": "stream",
     "text": [
      "[ 21.81794532  19.62064728   7.22914812]\n"
     ]
    }
   ],
   "source": [
    "avg_colors = np.mean(z_images, axis=(0,1,2))\n",
    "print(avg_colors)"
   ]
  },
  {
   "cell_type": "code",
   "execution_count": null,
   "metadata": {
    "collapsed": true
   },
   "outputs": [],
   "source": []
  }
 ],
 "metadata": {
  "kernelspec": {
   "display_name": "Python 3",
   "language": "python",
   "name": "python3"
  },
  "language_info": {
   "codemirror_mode": {
    "name": "ipython",
    "version": 3
   },
   "file_extension": ".py",
   "mimetype": "text/x-python",
   "name": "python",
   "nbconvert_exporter": "python",
   "pygments_lexer": "ipython3",
   "version": "3.5.3"
  }
 },
 "nbformat": 4,
 "nbformat_minor": 2
}
