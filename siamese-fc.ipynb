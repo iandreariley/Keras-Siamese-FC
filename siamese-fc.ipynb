{
 "cells": [
  {
   "cell_type": "markdown",
   "metadata": {},
   "source": [
    "# Siamese-FC"
   ]
  },
  {
   "cell_type": "code",
   "execution_count": 82,
   "metadata": {},
   "outputs": [],
   "source": [
    "%matplotlib inline\n",
    "\n",
    "import numpy as np\n",
    "import matplotlib.pyplot as plt\n",
    "\n",
    "import keras\n",
    "import tensorflow as tf\n",
    "from keras.layers import Input, Conv2D, BatchNormalization, MaxPool2D, Lambda, Reshape, Flatten\n",
    "from keras.models import Model\n",
    "from keras import backend as K\n",
    "from math import sqrt"
   ]
  },
  {
   "cell_type": "markdown",
   "metadata": {},
   "source": [
    "**Make label prototype for search images**"
   ]
  },
  {
   "cell_type": "code",
   "execution_count": 202,
   "metadata": {
    "collapsed": true
   },
   "outputs": [],
   "source": [
    "from math import ceil\n",
    "def inclusive_range(start, end):\n",
    "    return range(start, end + 1)\n",
    "\n",
    "def euclidean_distance(x1, y1, x2, y2):\n",
    "    return sqrt((x1 - x2)**2 + (y1 - y2)**2)\n",
    "\n",
    "# Create labels for a score map of size dim x dim, where the label of a score is positive for any cell within\n",
    "# radius of the center, and negative otherwise.\n",
    "def make_label(dim, radius):\n",
    "    label = np.full((dim, dim), -1)\n",
    "    center = int(dim / 2.0)\n",
    "    start = center - ceil(radius)\n",
    "    end = center + ceil(radius)\n",
    "    for i in inclusive_range(start, end):\n",
    "        for j in inclusive_range(start, end):\n",
    "            if euclidean_distance(i, j, center, center) <= radius:\n",
    "                label[i,j] = 1\n",
    "    return label\n",
    "\n",
    "def n_copy_array(source, n):\n",
    "    copies = np.empty((n,) + source.shape)\n",
    "    copies[:] = source\n",
    "    return copies\n",
    "\n",
    "def make_label_weight_mask(dim, radius, n_imgs):\n",
    "    label = make_label(dim, radius)\n",
    "    values, counts = np.unique(labels, return_counts=True)\n",
    "    print(label.shape)\n",
    "    print(values)\n",
    "    print(counts)\n",
    "    \n",
    "    weights = np.empty(label.shape)\n",
    "    for i in range(len(values)):\n",
    "        weights[np.where(label == values[i])] = 0.5 / counts[i] * 100\n",
    "    \n",
    "    weight_labels = n_copy_array(weights, n_imgs)\n",
    "    return weight_labels\n",
    "\n",
    "# Creates a matrix of weights where the sum of the weights for each label in {-1, 1} is 0.5. Used to account for\n",
    "# the fact that, given a search image we may have more negative than positive examples or vice versa.\n",
    "def make_label_weights(labels):\n",
    "    values, counts = np.unique(labels, return_counts=True)\n",
    "    class_weights = {}\n",
    "    for i in range(len(values)):\n",
    "        class_weights[values[i]] = 0.5 / counts[i]\n",
    "    return class_weights"
   ]
  },
  {
   "cell_type": "markdown",
   "metadata": {},
   "source": [
    "**Build Model**"
   ]
  },
  {
   "cell_type": "code",
   "execution_count": 219,
   "metadata": {},
   "outputs": [],
   "source": [
    "Z_SHAPE = (127, 127, 3)\n",
    "X_SHAPE = (255, 255, 3)\n",
    "\n",
    "def conv_layer(filters, kernel_dim, stride_len):\n",
    "    return [Conv2D(filters, kernel_dim, strides=stride_len,\n",
    "                  padding='valid', activation='relu', kernel_initializer='glorot_normal')]\n",
    "\n",
    "def conv_block(filters, kernel_dim, stride_len):\n",
    "    batch_norm = [BatchNormalization(axis=3)]\n",
    "    return conv_layer(filters, kernel_dim, stride_len) + batch_norm\n",
    "\n",
    "def max_pool():\n",
    "    return [MaxPool2D(pool_size=3, strides=2, padding='valid')]\n",
    "\n",
    "def alex_net_layers():\n",
    "    layers = []\n",
    "    layers += conv_block(48, 11, 2)\n",
    "    layers += max_pool()\n",
    "    layers += conv_block(128, 5, 1)\n",
    "    layers += max_pool()\n",
    "    layers += conv_block(48, 3, 1)\n",
    "    layers += conv_block(48, 3, 1)\n",
    "    layers += [Conv2D(32, 3, strides=1, padding='valid', kernel_initializer='glorot_normal')]\n",
    "    return layers\n",
    "\n",
    "def apply_layers(x, layers):\n",
    "    out = x\n",
    "    for layer in layers:\n",
    "        out = layer(out)\n",
    "    return out\n",
    "\n",
    "def add_dimension(t):\n",
    "    return tf.reshape(t, (1,) + t.shape)\n",
    "\n",
    "def cross_correlation(inputs):\n",
    "    x = inputs[0]\n",
    "    x = tf.reshape(x, [1] + x.shape.as_list())\n",
    "    z = inputs[1]\n",
    "    z = tf.reshape(z, z.shape.as_list() + [1])\n",
    "    return tf.nn.convolution(x, z, padding='VALID', strides=(1,1))\n",
    "\n",
    "def x_corr_map(inputs):\n",
    "    # Note that dtype MUST be specified, otherwise TF will assert that the input and output structures are the same,\n",
    "    # which they most certainly are NOT.\n",
    "    return K.reshape(tf.map_fn(cross_correlation, inputs, dtype=tf.float32, infer_shape=False), shape=(-1,17,17))\n",
    "    \n",
    "def x_corr_layer():\n",
    "    return Lambda(x_corr_map, output_shape=(17, 17))\n",
    "\n",
    "def loss_fn(y_true, y_pred):\n",
    "    print('y_true shape: %s' % y_true.shape)\n",
    "    print('y_pred shape: %s' % y_pred.shape)\n",
    "    weight_mask = K.constant(make_label_weight_mask(17, 16 / 6.0, 5))\n",
    "    loss = -y_true * y_pred\n",
    "    # loss = 1 + K.clip(K.exp(product), 0, 1e9)\n",
    "    #loss = K.log(probs)\n",
    "    return K.mean(loss * weight_mask, axis=(1,2))\n",
    "\n",
    "def loss_exp_fn(inputs):\n",
    "    y_true, y_pred = inputs\n",
    "    product = -y_true * y_pred\n",
    "    probs = 1 + K.clip(K.exp(product), 0, 1e9)\n",
    "    loss = K.log(probs)\n",
    "    return K.mean(K.flatten(loss), axis=-1)\n",
    "    \n",
    "def loss_exp():\n",
    "    return Lambda(loss_exp_fn)\n",
    "\n",
    "def make_model(x_shape, z_shape, w_loss=False):\n",
    "    exemplar = Input(shape=z_shape)\n",
    "    search = Input(shape=x_shape)\n",
    "    label_input = Input(shape=(17,17))\n",
    "\n",
    "    alex_net = alex_net_layers()\n",
    "\n",
    "    exemplar_features = apply_layers(exemplar, alex_net)\n",
    "    search_features = apply_layers(search, alex_net)\n",
    "    score_map = x_corr_layer()([search_features, exemplar_features])\n",
    "    \n",
    "    outputs = [score_map]\n",
    "    inputs = [search, exemplar]\n",
    "    \n",
    "    if w_loss:\n",
    "        loss_layer = loss_exp()([label_input,score_map])\n",
    "        outputs = outputs + [loss_layer]\n",
    "        inputs = inputs + [label_input]\n",
    "    model = Model(inputs=inputs, outputs=outputs)\n",
    "    return model\n",
    "    \n",
    "model = make_model(X_SHAPE, Z_SHAPE)"
   ]
  },
  {
   "cell_type": "markdown",
   "metadata": {},
   "source": [
    "**Load images as Numpy arrays**"
   ]
  },
  {
   "cell_type": "code",
   "execution_count": 84,
   "metadata": {
    "collapsed": true
   },
   "outputs": [],
   "source": [
    "from keras.preprocessing import image\n",
    "\n",
    "x_dir = '../sample/x/'\n",
    "z_dir = '../sample/z/'\n",
    "\n",
    "def load_images(directory, dimension, n_images, suffix):\n",
    "    img_array = np.empty((n_images, dimension, dimension, 3))\n",
    "    for i in range(1, n_images + 1):\n",
    "        img = image.load_img(directory + str(i) + suffix, target_size=(dimension, dimension))\n",
    "        img_array[i - 1] = image.img_to_array(img)\n",
    "    return img_array"
   ]
  },
  {
   "cell_type": "markdown",
   "metadata": {},
   "source": [
    "**Loading and preprocessing images**"
   ]
  },
  {
   "cell_type": "code",
   "execution_count": 210,
   "metadata": {},
   "outputs": [
    {
     "name": "stdout",
     "output_type": "stream",
     "text": [
      "[[[[ 122.63988712  120.70739254  108.4214396 ]]]]\n",
      "(1, 1, 1, 3)\n",
      "[ -1.01203627e-14   9.27809142e-14   2.33398234e-13]\n",
      "[ 0.02205711  0.01812003  0.01516509]\n"
     ]
    }
   ],
   "source": [
    "x_images = load_images(x_dir, 255, 100, \".x.jpg\")\n",
    "z_images = load_images(z_dir, 127, 100, \".z.jpg\")\n",
    "color_means = np.mean(x_images, axis=(0,1,2), keepdims=True)\n",
    "print(color_means)\n",
    "print(color_means.shape)\n",
    "x_images -= color_means\n",
    "z_images -= color_means\n",
    "color_std_dev = np.std(x_images, axis=(0,1,2), keepdims=True)\n",
    "x_images /= color_std_dev\n",
    "z_images /= color_std_dev\n",
    "print(np.mean(x_images, axis=(0,1,2)))\n",
    "print(np.mean(z_images, axis=(0,1,2)))"
   ]
  },
  {
   "cell_type": "code",
   "execution_count": 220,
   "metadata": {
    "scrolled": false
   },
   "outputs": [
    {
     "name": "stdout",
     "output_type": "stream",
     "text": [
      "(100, 17, 17)\n",
      "y_true shape: (?, ?, ?)\n",
      "y_pred shape: (?, 17, 17)\n",
      "(17, 17)\n",
      "[-1.  1.]\n",
      "[26800  2100]\n"
     ]
    },
    {
     "data": {
      "text/plain": [
       "array([[[ 0.88441879,  1.00744414,  1.08764732,  1.15197396,  1.19297981,\n",
       "          1.2075038 ,  1.22239947,  1.22590375,  1.18981516,  1.13923049,\n",
       "          1.10124648,  1.06568933,  1.02521992,  0.95578337,  0.85601699,\n",
       "          0.76474059,  0.65274429],\n",
       "        [ 1.25565815,  1.47219062,  1.64275396,  1.78779221,  1.87860382,\n",
       "          1.91156375,  1.93408275,  1.94363713,  1.89926565,  1.84004462,\n",
       "          1.75900888,  1.67568517,  1.56997025,  1.43255734,  1.26806939,\n",
       "          1.09946001,  0.93440866],\n",
       "        [ 1.73937213,  2.02478933,  2.29117584,  2.51331878,  2.64948106,\n",
       "          2.71872211,  2.7520566 ,  2.76034832,  2.67286992,  2.58899426,\n",
       "          2.48172617,  2.37609696,  2.23790789,  2.06928515,  1.86598587,\n",
       "          1.61064637,  1.33438694],\n",
       "        [ 2.21070886,  2.54690599,  2.90065813,  3.18140364,  3.35889244,\n",
       "          3.43566871,  3.37512374,  3.32338905,  3.2715416 ,  3.21726513,\n",
       "          3.08788419,  2.97810173,  2.9106307 ,  2.81976891,  2.64815736,\n",
       "          2.32630205,  1.86255956],\n",
       "        [ 2.69118643,  3.02681351,  3.42709899,  3.76799393,  4.00585556,\n",
       "          4.04679298,  3.90028381,  3.8297236 ,  3.85775852,  3.78717852,\n",
       "          3.57964563,  3.45466375,  3.4145081 ,  3.40366626,  3.32294345,\n",
       "          2.97926021,  2.40400743],\n",
       "        [ 3.01393342,  3.38499641,  3.78388953,  4.17090511,  4.3899889 ,\n",
       "          4.39231825,  4.39598942,  4.44445276,  4.48186874,  4.37444019,\n",
       "          4.10647583,  3.94448233,  3.96609735,  4.0528121 ,  4.00174141,\n",
       "          3.57737279,  2.87752199],\n",
       "        [ 3.11950684,  3.59872174,  4.08246851,  4.41487455,  4.52319002,\n",
       "          4.45590305,  4.54798269,  4.73236465,  4.77387762,  4.66325283,\n",
       "          4.4519496 ,  4.27255583,  4.35339308,  4.43354797,  4.32868814,\n",
       "          3.90180707,  3.17564583],\n",
       "        [ 2.98047352,  3.58559752,  4.14925289,  4.38601971,  4.44516182,\n",
       "          4.46970224,  4.63734436,  5.04701757,  5.31780243,  5.03128052,\n",
       "          4.66157579,  4.41811085,  4.46685362,  4.4981432 ,  4.30783463,\n",
       "          3.85235071,  3.2295084 ],\n",
       "        [ 2.73782563,  3.29014564,  3.77825308,  3.97792149,  4.06320572,\n",
       "          4.15307331,  4.47390223,  5.11726379,  5.79936361,  5.28129721,\n",
       "          4.80843973,  4.62036943,  4.65377235,  4.60565329,  4.35278988,\n",
       "          3.7985599 ,  3.16604686],\n",
       "        [ 2.27077746,  2.76715565,  3.13451004,  3.31820226,  3.3721137 ,\n",
       "          3.49527502,  3.83143806,  4.18974686,  4.54352379,  4.50964403,\n",
       "          4.43429852,  4.47510242,  4.56025982,  4.51980114,  4.28305435,\n",
       "          3.73517179,  3.05198932],\n",
       "        [ 1.74903822,  2.12787747,  2.34108996,  2.51118398,  2.58892632,\n",
       "          2.76367331,  3.1194663 ,  3.32517743,  3.58776832,  3.82825446,\n",
       "          4.02709579,  4.18340015,  4.40828133,  4.41317177,  4.20356464,\n",
       "          3.71213126,  2.9783833 ],\n",
       "        [ 1.2855227 ,  1.56566584,  1.70820618,  1.83952224,  2.04613113,\n",
       "          2.27223134,  2.51529455,  2.74559498,  3.01294279,  3.33287072,\n",
       "          3.6783309 ,  3.94168353,  4.180861  ,  4.17484188,  3.98191953,\n",
       "          3.48930335,  2.81988811],\n",
       "        [ 0.96218413,  1.16418648,  1.26126528,  1.38029695,  1.6075356 ,\n",
       "          1.82844055,  2.00897098,  2.21564794,  2.49059105,  2.81105161,\n",
       "          3.17110705,  3.44145298,  3.55644727,  3.48814154,  3.29072547,\n",
       "          2.87791324,  2.35779071],\n",
       "        [ 0.68596137,  0.83360314,  0.93296552,  1.04055893,  1.21895123,\n",
       "          1.40270352,  1.57443583,  1.78774893,  2.05500054,  2.3258729 ,\n",
       "          2.58904052,  2.79027748,  2.86859226,  2.83198023,  2.65255213,\n",
       "          2.31670213,  1.89971232],\n",
       "        [ 0.52911371,  0.64513856,  0.73836303,  0.8269034 ,  0.9348951 ,\n",
       "          1.06635427,  1.22266722,  1.40672684,  1.65050542,  1.87425208,\n",
       "          2.05890322,  2.18673182,  2.23495889,  2.1912322 ,  2.08165193,\n",
       "          1.84857726,  1.57715356],\n",
       "        [ 0.37375098,  0.43836012,  0.50813091,  0.57800776,  0.65119386,\n",
       "          0.75043255,  0.86956912,  1.0230093 ,  1.19370484,  1.35440421,\n",
       "          1.46809328,  1.55310988,  1.61124647,  1.58341837,  1.49123299,\n",
       "          1.33300102,  1.15888357],\n",
       "        [ 0.29621243,  0.32546717,  0.36013117,  0.4063583 ,  0.46029902,\n",
       "          0.51438618,  0.57454389,  0.66679448,  0.77394843,  0.85735685,\n",
       "          0.91773188,  0.96622425,  1.00466728,  1.00127769,  0.94616038,\n",
       "          0.83691096,  0.71661383]],\n",
       "\n",
       "       [[ 1.54153943,  1.57380736,  1.59250808,  1.60644317,  1.61444557,\n",
       "          1.62675524,  1.64171636,  1.65135133,  1.65351999,  1.64512515,\n",
       "          1.63620853,  1.59712505,  1.53481126,  1.47283053,  1.41040397,\n",
       "          1.35163772,  1.3001318 ],\n",
       "        [ 1.82840729,  1.88513923,  1.92591131,  1.96196842,  1.99867749,\n",
       "          2.03913832,  2.07491493,  2.11068535,  2.09833217,  2.05373621,\n",
       "          1.99445748,  1.90081966,  1.78147697,  1.66169178,  1.54618883,\n",
       "          1.43329501,  1.34511411],\n",
       "        [ 2.09916449,  2.18318892,  2.26207352,  2.33962297,  2.41589069,\n",
       "          2.48470759,  2.53475618,  2.54314065,  2.48002958,  2.41999245,\n",
       "          2.31620789,  2.1699481 ,  2.00990367,  1.83687139,  1.68367195,\n",
       "          1.52140069,  1.39465427],\n",
       "        [ 2.35188031,  2.46764565,  2.5705266 ,  2.68409467,  2.76098394,\n",
       "          2.8487525 ,  2.88218713,  2.85840464,  2.76359129,  2.68460608,\n",
       "          2.54597354,  2.36604333,  2.20923686,  2.00387573,  1.82007945,\n",
       "          1.6292603 ,  1.4627521 ],\n",
       "        [ 2.54413223,  2.70731139,  2.8352499 ,  2.96178198,  3.03274584,\n",
       "          3.11684084,  3.1385088 ,  3.12961459,  3.03555584,  2.92473674,\n",
       "          2.72192526,  2.50877714,  2.35033083,  2.13848519,  1.93860936,\n",
       "          1.73411679,  1.53059947],\n",
       "        [ 2.67994714,  2.88048816,  3.02203846,  3.15185189,  3.26078677,\n",
       "          3.37293839,  3.40183353,  3.43016171,  3.35274816,  3.23222589,\n",
       "          3.04415798,  2.78269744,  2.5735476 ,  2.32786798,  2.06991506,\n",
       "          1.82574391,  1.57146859],\n",
       "        [ 2.72849965,  2.95591521,  3.13732123,  3.26270843,  3.3936224 ,\n",
       "          3.56351852,  3.63716507,  3.68507504,  3.62709236,  3.50471282,\n",
       "          3.40743876,  3.11446953,  2.83363724,  2.52190542,  2.16357446,\n",
       "          1.85214436,  1.56750333],\n",
       "        [ 2.67202544,  2.90387964,  3.10122895,  3.22984242,  3.3971324 ,\n",
       "          3.66033363,  3.84995818,  3.99862385,  4.09823561,  3.8631649 ,\n",
       "          3.65869141,  3.31217122,  2.94529247,  2.6052618 ,  2.16449547,\n",
       "          1.81749821,  1.55601847],\n",
       "        [ 2.61217451,  2.78863454,  2.94580412,  3.13226557,  3.32247186,\n",
       "          3.64240813,  3.94117641,  4.23193264,  4.58070374,  4.14898586,\n",
       "          3.74507165,  3.32009363,  2.87254953,  2.53277993,  2.13265657,\n",
       "          1.78205633,  1.54846501],\n",
       "        [ 2.59540367,  2.72899127,  2.83422709,  3.01487494,  3.2385447 ,\n",
       "          3.52183962,  3.77738905,  3.92562485,  4.0592432 ,  3.8347559 ,\n",
       "          3.48291159,  3.10750008,  2.65690947,  2.3129189 ,  2.03254867,\n",
       "          1.73351908,  1.52049279],\n",
       "        [ 2.49558663,  2.67866683,  2.77353883,  2.90192175,  3.07894444,\n",
       "          3.29920864,  3.46517587,  3.47124028,  3.41893435,  3.31430101,\n",
       "          3.06275654,  2.7443397 ,  2.43725705,  2.15482903,  1.92591166,\n",
       "          1.68038404,  1.47556472],\n",
       "        [ 2.17390037,  2.37099338,  2.53129125,  2.66466832,  2.81192613,\n",
       "          2.92665243,  3.03183365,  3.04279017,  2.94655991,  2.86243129,\n",
       "          2.67242599,  2.44583845,  2.25667715,  2.03323507,  1.81606424,\n",
       "          1.6042726 ,  1.42347121],\n",
       "        [ 1.84796309,  1.97580731,  2.09373999,  2.23575521,  2.36549973,\n",
       "          2.43402553,  2.49777389,  2.56028485,  2.52526426,  2.48745584,\n",
       "          2.35697174,  2.19768667,  2.03784204,  1.86115241,  1.68024707,\n",
       "          1.51063275,  1.37375784],\n",
       "        [ 1.60827172,  1.68372357,  1.76371515,  1.87111235,  1.98900902,\n",
       "          2.06734276,  2.12584448,  2.17317057,  2.18341684,  2.17557788,\n",
       "          2.084095  ,  1.95895326,  1.79560006,  1.66361129,  1.53198421,\n",
       "          1.41409802,  1.31946909],\n",
       "        [ 1.45245612,  1.49423409,  1.56628978,  1.63727558,  1.72022378,\n",
       "          1.80114603,  1.84663224,  1.88408804,  1.89192343,  1.86837721,\n",
       "          1.81221807,  1.70863509,  1.58386469,  1.49247777,  1.41531289,\n",
       "          1.34304333,  1.27853322],\n",
       "        [ 1.36198545,  1.39027488,  1.43482685,  1.483284  ,  1.52508497,\n",
       "          1.57957864,  1.60825539,  1.62575698,  1.62580585,  1.59683859,\n",
       "          1.55692601,  1.49047554,  1.42502666,  1.37408686,  1.32474971,\n",
       "          1.28681958,  1.25101089],\n",
       "        [ 1.31192422,  1.31965411,  1.33418941,  1.36521685,  1.39258146,\n",
       "          1.41672409,  1.42066467,  1.4192009 ,  1.41335845,  1.40010285,\n",
       "          1.37743938,  1.34829736,  1.32599711,  1.30155754,  1.27626109,\n",
       "          1.25544286,  1.23926234]]], dtype=float32)"
      ]
     },
     "execution_count": 220,
     "metadata": {},
     "output_type": "execute_result"
    }
   ],
   "source": [
    "# constants\n",
    "R = 16\n",
    "batch_size = 1\n",
    "response_size = 17\n",
    "data_size = 100\n",
    "response_stride = 6.0\n",
    "label = make_label(response_size, R / response_stride)\n",
    "labels = np.empty((data_size,) + label.shape)\n",
    "labels[:] = label\n",
    "print(labels.shape)\n",
    "\n",
    "model = make_model(X_SHAPE, Z_SHAPE, False)\n",
    "model.compile(optimizer='adam', loss=loss_fn, metrics=['accuracy'])\n",
    "model.predict([x_images[0:2], z_images[0:2]])"
   ]
  },
  {
   "cell_type": "markdown",
   "metadata": {},
   "source": [
    "**For some reason, loss does not change at all, currently. wtf?**"
   ]
  },
  {
   "cell_type": "code",
   "execution_count": 221,
   "metadata": {},
   "outputs": [
    {
     "name": "stdout",
     "output_type": "stream",
     "text": [
      "Epoch 1/5\n",
      "  5/100 [>.............................] - ETA: 159s - loss: -0.3069 - acc: 0.0235"
     ]
    },
    {
     "ename": "KeyboardInterrupt",
     "evalue": "",
     "output_type": "error",
     "traceback": [
      "\u001b[0;31m---------------------------------------------------------------------------\u001b[0m",
      "\u001b[0;31mKeyboardInterrupt\u001b[0m                         Traceback (most recent call last)",
      "\u001b[0;32m<ipython-input-221-e720894191c8>\u001b[0m in \u001b[0;36m<module>\u001b[0;34m()\u001b[0m\n\u001b[0;32m----> 1\u001b[0;31m \u001b[0mmodel\u001b[0m\u001b[0;34m.\u001b[0m\u001b[0mfit\u001b[0m\u001b[0;34m(\u001b[0m\u001b[0;34m[\u001b[0m\u001b[0mx_images\u001b[0m\u001b[0;34m,\u001b[0m \u001b[0mz_images\u001b[0m\u001b[0;34m]\u001b[0m\u001b[0;34m,\u001b[0m \u001b[0mlabels\u001b[0m\u001b[0;34m,\u001b[0m \u001b[0mbatch_size\u001b[0m\u001b[0;34m=\u001b[0m\u001b[0;36m5\u001b[0m\u001b[0;34m,\u001b[0m \u001b[0mepochs\u001b[0m\u001b[0;34m=\u001b[0m\u001b[0;36m5\u001b[0m\u001b[0;34m)\u001b[0m\u001b[0;34m\u001b[0m\u001b[0m\n\u001b[0m",
      "\u001b[0;32m/Users/ianriley/anaconda/envs/tf/lib/python3.5/site-packages/keras/engine/training.py\u001b[0m in \u001b[0;36mfit\u001b[0;34m(self, x, y, batch_size, epochs, verbose, callbacks, validation_split, validation_data, shuffle, class_weight, sample_weight, initial_epoch, **kwargs)\u001b[0m\n\u001b[1;32m   1483\u001b[0m                               \u001b[0mval_f\u001b[0m\u001b[0;34m=\u001b[0m\u001b[0mval_f\u001b[0m\u001b[0;34m,\u001b[0m \u001b[0mval_ins\u001b[0m\u001b[0;34m=\u001b[0m\u001b[0mval_ins\u001b[0m\u001b[0;34m,\u001b[0m \u001b[0mshuffle\u001b[0m\u001b[0;34m=\u001b[0m\u001b[0mshuffle\u001b[0m\u001b[0;34m,\u001b[0m\u001b[0;34m\u001b[0m\u001b[0m\n\u001b[1;32m   1484\u001b[0m                               \u001b[0mcallback_metrics\u001b[0m\u001b[0;34m=\u001b[0m\u001b[0mcallback_metrics\u001b[0m\u001b[0;34m,\u001b[0m\u001b[0;34m\u001b[0m\u001b[0m\n\u001b[0;32m-> 1485\u001b[0;31m                               initial_epoch=initial_epoch)\n\u001b[0m\u001b[1;32m   1486\u001b[0m \u001b[0;34m\u001b[0m\u001b[0m\n\u001b[1;32m   1487\u001b[0m     \u001b[0;32mdef\u001b[0m \u001b[0mevaluate\u001b[0m\u001b[0;34m(\u001b[0m\u001b[0mself\u001b[0m\u001b[0;34m,\u001b[0m \u001b[0mx\u001b[0m\u001b[0;34m,\u001b[0m \u001b[0my\u001b[0m\u001b[0;34m,\u001b[0m \u001b[0mbatch_size\u001b[0m\u001b[0;34m=\u001b[0m\u001b[0;36m32\u001b[0m\u001b[0;34m,\u001b[0m \u001b[0mverbose\u001b[0m\u001b[0;34m=\u001b[0m\u001b[0;36m1\u001b[0m\u001b[0;34m,\u001b[0m \u001b[0msample_weight\u001b[0m\u001b[0;34m=\u001b[0m\u001b[0;32mNone\u001b[0m\u001b[0;34m)\u001b[0m\u001b[0;34m:\u001b[0m\u001b[0;34m\u001b[0m\u001b[0m\n",
      "\u001b[0;32m/Users/ianriley/anaconda/envs/tf/lib/python3.5/site-packages/keras/engine/training.py\u001b[0m in \u001b[0;36m_fit_loop\u001b[0;34m(self, f, ins, out_labels, batch_size, epochs, verbose, callbacks, val_f, val_ins, shuffle, callback_metrics, initial_epoch)\u001b[0m\n\u001b[1;32m   1138\u001b[0m                 \u001b[0mbatch_logs\u001b[0m\u001b[0;34m[\u001b[0m\u001b[0;34m'size'\u001b[0m\u001b[0;34m]\u001b[0m \u001b[0;34m=\u001b[0m \u001b[0mlen\u001b[0m\u001b[0;34m(\u001b[0m\u001b[0mbatch_ids\u001b[0m\u001b[0;34m)\u001b[0m\u001b[0;34m\u001b[0m\u001b[0m\n\u001b[1;32m   1139\u001b[0m                 \u001b[0mcallbacks\u001b[0m\u001b[0;34m.\u001b[0m\u001b[0mon_batch_begin\u001b[0m\u001b[0;34m(\u001b[0m\u001b[0mbatch_index\u001b[0m\u001b[0;34m,\u001b[0m \u001b[0mbatch_logs\u001b[0m\u001b[0;34m)\u001b[0m\u001b[0;34m\u001b[0m\u001b[0m\n\u001b[0;32m-> 1140\u001b[0;31m                 \u001b[0mouts\u001b[0m \u001b[0;34m=\u001b[0m \u001b[0mf\u001b[0m\u001b[0;34m(\u001b[0m\u001b[0mins_batch\u001b[0m\u001b[0;34m)\u001b[0m\u001b[0;34m\u001b[0m\u001b[0m\n\u001b[0m\u001b[1;32m   1141\u001b[0m                 \u001b[0;32mif\u001b[0m \u001b[0;32mnot\u001b[0m \u001b[0misinstance\u001b[0m\u001b[0;34m(\u001b[0m\u001b[0mouts\u001b[0m\u001b[0;34m,\u001b[0m \u001b[0mlist\u001b[0m\u001b[0;34m)\u001b[0m\u001b[0;34m:\u001b[0m\u001b[0;34m\u001b[0m\u001b[0m\n\u001b[1;32m   1142\u001b[0m                     \u001b[0mouts\u001b[0m \u001b[0;34m=\u001b[0m \u001b[0;34m[\u001b[0m\u001b[0mouts\u001b[0m\u001b[0;34m]\u001b[0m\u001b[0;34m\u001b[0m\u001b[0m\n",
      "\u001b[0;32m/Users/ianriley/anaconda/envs/tf/lib/python3.5/site-packages/keras/backend/tensorflow_backend.py\u001b[0m in \u001b[0;36m__call__\u001b[0;34m(self, inputs)\u001b[0m\n\u001b[1;32m   2071\u001b[0m         \u001b[0msession\u001b[0m \u001b[0;34m=\u001b[0m \u001b[0mget_session\u001b[0m\u001b[0;34m(\u001b[0m\u001b[0;34m)\u001b[0m\u001b[0;34m\u001b[0m\u001b[0m\n\u001b[1;32m   2072\u001b[0m         updated = session.run(self.outputs + [self.updates_op],\n\u001b[0;32m-> 2073\u001b[0;31m                               feed_dict=feed_dict)\n\u001b[0m\u001b[1;32m   2074\u001b[0m         \u001b[0;32mreturn\u001b[0m \u001b[0mupdated\u001b[0m\u001b[0;34m[\u001b[0m\u001b[0;34m:\u001b[0m\u001b[0mlen\u001b[0m\u001b[0;34m(\u001b[0m\u001b[0mself\u001b[0m\u001b[0;34m.\u001b[0m\u001b[0moutputs\u001b[0m\u001b[0;34m)\u001b[0m\u001b[0;34m]\u001b[0m\u001b[0;34m\u001b[0m\u001b[0m\n\u001b[1;32m   2075\u001b[0m \u001b[0;34m\u001b[0m\u001b[0m\n",
      "\u001b[0;32m/Users/ianriley/anaconda/envs/tf/lib/python3.5/site-packages/tensorflow/python/client/session.py\u001b[0m in \u001b[0;36mrun\u001b[0;34m(self, fetches, feed_dict, options, run_metadata)\u001b[0m\n\u001b[1;32m    765\u001b[0m     \u001b[0;32mtry\u001b[0m\u001b[0;34m:\u001b[0m\u001b[0;34m\u001b[0m\u001b[0m\n\u001b[1;32m    766\u001b[0m       result = self._run(None, fetches, feed_dict, options_ptr,\n\u001b[0;32m--> 767\u001b[0;31m                          run_metadata_ptr)\n\u001b[0m\u001b[1;32m    768\u001b[0m       \u001b[0;32mif\u001b[0m \u001b[0mrun_metadata\u001b[0m\u001b[0;34m:\u001b[0m\u001b[0;34m\u001b[0m\u001b[0m\n\u001b[1;32m    769\u001b[0m         \u001b[0mproto_data\u001b[0m \u001b[0;34m=\u001b[0m \u001b[0mtf_session\u001b[0m\u001b[0;34m.\u001b[0m\u001b[0mTF_GetBuffer\u001b[0m\u001b[0;34m(\u001b[0m\u001b[0mrun_metadata_ptr\u001b[0m\u001b[0;34m)\u001b[0m\u001b[0;34m\u001b[0m\u001b[0m\n",
      "\u001b[0;32m/Users/ianriley/anaconda/envs/tf/lib/python3.5/site-packages/tensorflow/python/client/session.py\u001b[0m in \u001b[0;36m_run\u001b[0;34m(self, handle, fetches, feed_dict, options, run_metadata)\u001b[0m\n\u001b[1;32m    963\u001b[0m     \u001b[0;32mif\u001b[0m \u001b[0mfinal_fetches\u001b[0m \u001b[0;32mor\u001b[0m \u001b[0mfinal_targets\u001b[0m\u001b[0;34m:\u001b[0m\u001b[0;34m\u001b[0m\u001b[0m\n\u001b[1;32m    964\u001b[0m       results = self._do_run(handle, final_targets, final_fetches,\n\u001b[0;32m--> 965\u001b[0;31m                              feed_dict_string, options, run_metadata)\n\u001b[0m\u001b[1;32m    966\u001b[0m     \u001b[0;32melse\u001b[0m\u001b[0;34m:\u001b[0m\u001b[0;34m\u001b[0m\u001b[0m\n\u001b[1;32m    967\u001b[0m       \u001b[0mresults\u001b[0m \u001b[0;34m=\u001b[0m \u001b[0;34m[\u001b[0m\u001b[0;34m]\u001b[0m\u001b[0;34m\u001b[0m\u001b[0m\n",
      "\u001b[0;32m/Users/ianriley/anaconda/envs/tf/lib/python3.5/site-packages/tensorflow/python/client/session.py\u001b[0m in \u001b[0;36m_do_run\u001b[0;34m(self, handle, target_list, fetch_list, feed_dict, options, run_metadata)\u001b[0m\n\u001b[1;32m   1013\u001b[0m     \u001b[0;32mif\u001b[0m \u001b[0mhandle\u001b[0m \u001b[0;32mis\u001b[0m \u001b[0;32mNone\u001b[0m\u001b[0;34m:\u001b[0m\u001b[0;34m\u001b[0m\u001b[0m\n\u001b[1;32m   1014\u001b[0m       return self._do_call(_run_fn, self._session, feed_dict, fetch_list,\n\u001b[0;32m-> 1015\u001b[0;31m                            target_list, options, run_metadata)\n\u001b[0m\u001b[1;32m   1016\u001b[0m     \u001b[0;32melse\u001b[0m\u001b[0;34m:\u001b[0m\u001b[0;34m\u001b[0m\u001b[0m\n\u001b[1;32m   1017\u001b[0m       return self._do_call(_prun_fn, self._session, handle, feed_dict,\n",
      "\u001b[0;32m/Users/ianriley/anaconda/envs/tf/lib/python3.5/site-packages/tensorflow/python/client/session.py\u001b[0m in \u001b[0;36m_do_call\u001b[0;34m(self, fn, *args)\u001b[0m\n\u001b[1;32m   1020\u001b[0m   \u001b[0;32mdef\u001b[0m \u001b[0m_do_call\u001b[0m\u001b[0;34m(\u001b[0m\u001b[0mself\u001b[0m\u001b[0;34m,\u001b[0m \u001b[0mfn\u001b[0m\u001b[0;34m,\u001b[0m \u001b[0;34m*\u001b[0m\u001b[0margs\u001b[0m\u001b[0;34m)\u001b[0m\u001b[0;34m:\u001b[0m\u001b[0;34m\u001b[0m\u001b[0m\n\u001b[1;32m   1021\u001b[0m     \u001b[0;32mtry\u001b[0m\u001b[0;34m:\u001b[0m\u001b[0;34m\u001b[0m\u001b[0m\n\u001b[0;32m-> 1022\u001b[0;31m       \u001b[0;32mreturn\u001b[0m \u001b[0mfn\u001b[0m\u001b[0;34m(\u001b[0m\u001b[0;34m*\u001b[0m\u001b[0margs\u001b[0m\u001b[0;34m)\u001b[0m\u001b[0;34m\u001b[0m\u001b[0m\n\u001b[0m\u001b[1;32m   1023\u001b[0m     \u001b[0;32mexcept\u001b[0m \u001b[0merrors\u001b[0m\u001b[0;34m.\u001b[0m\u001b[0mOpError\u001b[0m \u001b[0;32mas\u001b[0m \u001b[0me\u001b[0m\u001b[0;34m:\u001b[0m\u001b[0;34m\u001b[0m\u001b[0m\n\u001b[1;32m   1024\u001b[0m       \u001b[0mmessage\u001b[0m \u001b[0;34m=\u001b[0m \u001b[0mcompat\u001b[0m\u001b[0;34m.\u001b[0m\u001b[0mas_text\u001b[0m\u001b[0;34m(\u001b[0m\u001b[0me\u001b[0m\u001b[0;34m.\u001b[0m\u001b[0mmessage\u001b[0m\u001b[0;34m)\u001b[0m\u001b[0;34m\u001b[0m\u001b[0m\n",
      "\u001b[0;32m/Users/ianriley/anaconda/envs/tf/lib/python3.5/site-packages/tensorflow/python/client/session.py\u001b[0m in \u001b[0;36m_run_fn\u001b[0;34m(session, feed_dict, fetch_list, target_list, options, run_metadata)\u001b[0m\n\u001b[1;32m   1002\u001b[0m         return tf_session.TF_Run(session, options,\n\u001b[1;32m   1003\u001b[0m                                  \u001b[0mfeed_dict\u001b[0m\u001b[0;34m,\u001b[0m \u001b[0mfetch_list\u001b[0m\u001b[0;34m,\u001b[0m \u001b[0mtarget_list\u001b[0m\u001b[0;34m,\u001b[0m\u001b[0;34m\u001b[0m\u001b[0m\n\u001b[0;32m-> 1004\u001b[0;31m                                  status, run_metadata)\n\u001b[0m\u001b[1;32m   1005\u001b[0m \u001b[0;34m\u001b[0m\u001b[0m\n\u001b[1;32m   1006\u001b[0m     \u001b[0;32mdef\u001b[0m \u001b[0m_prun_fn\u001b[0m\u001b[0;34m(\u001b[0m\u001b[0msession\u001b[0m\u001b[0;34m,\u001b[0m \u001b[0mhandle\u001b[0m\u001b[0;34m,\u001b[0m \u001b[0mfeed_dict\u001b[0m\u001b[0;34m,\u001b[0m \u001b[0mfetch_list\u001b[0m\u001b[0;34m)\u001b[0m\u001b[0;34m:\u001b[0m\u001b[0;34m\u001b[0m\u001b[0m\n",
      "\u001b[0;31mKeyboardInterrupt\u001b[0m: "
     ]
    }
   ],
   "source": [
    "model.fit([x_images, z_images], labels, batch_size=5, epochs=5)"
   ]
  },
  {
   "cell_type": "code",
   "execution_count": 213,
   "metadata": {},
   "outputs": [
    {
     "data": {
      "text/plain": [
       "array([[[ nan,  nan,  nan,  nan,  nan,  nan,  nan,  nan,  nan,  nan,  nan,\n",
       "          nan,  nan,  nan,  nan,  nan,  nan],\n",
       "        [ nan,  nan,  nan,  nan,  nan,  nan,  nan,  nan,  nan,  nan,  nan,\n",
       "          nan,  nan,  nan,  nan,  nan,  nan],\n",
       "        [ nan,  nan,  nan,  nan,  nan,  nan,  nan,  nan,  nan,  nan,  nan,\n",
       "          nan,  nan,  nan,  nan,  nan,  nan],\n",
       "        [ nan,  nan,  nan,  nan,  nan,  nan,  nan,  nan,  nan,  nan,  nan,\n",
       "          nan,  nan,  nan,  nan,  nan,  nan],\n",
       "        [ nan,  nan,  nan,  nan,  nan,  nan,  nan,  nan,  nan,  nan,  nan,\n",
       "          nan,  nan,  nan,  nan,  nan,  nan],\n",
       "        [ nan,  nan,  nan,  nan,  nan,  nan,  nan,  nan,  nan,  nan,  nan,\n",
       "          nan,  nan,  nan,  nan,  nan,  nan],\n",
       "        [ nan,  nan,  nan,  nan,  nan,  nan,  nan,  nan,  nan,  nan,  nan,\n",
       "          nan,  nan,  nan,  nan,  nan,  nan],\n",
       "        [ nan,  nan,  nan,  nan,  nan,  nan,  nan,  nan,  nan,  nan,  nan,\n",
       "          nan,  nan,  nan,  nan,  nan,  nan],\n",
       "        [ nan,  nan,  nan,  nan,  nan,  nan,  nan,  nan,  nan,  nan,  nan,\n",
       "          nan,  nan,  nan,  nan,  nan,  nan],\n",
       "        [ nan,  nan,  nan,  nan,  nan,  nan,  nan,  nan,  nan,  nan,  nan,\n",
       "          nan,  nan,  nan,  nan,  nan,  nan],\n",
       "        [ nan,  nan,  nan,  nan,  nan,  nan,  nan,  nan,  nan,  nan,  nan,\n",
       "          nan,  nan,  nan,  nan,  nan,  nan],\n",
       "        [ nan,  nan,  nan,  nan,  nan,  nan,  nan,  nan,  nan,  nan,  nan,\n",
       "          nan,  nan,  nan,  nan,  nan,  nan],\n",
       "        [ nan,  nan,  nan,  nan,  nan,  nan,  nan,  nan,  nan,  nan,  nan,\n",
       "          nan,  nan,  nan,  nan,  nan,  nan],\n",
       "        [ nan,  nan,  nan,  nan,  nan,  nan,  nan,  nan,  nan,  nan,  nan,\n",
       "          nan,  nan,  nan,  nan,  nan,  nan],\n",
       "        [ nan,  nan,  nan,  nan,  nan,  nan,  nan,  nan,  nan,  nan,  nan,\n",
       "          nan,  nan,  nan,  nan,  nan,  nan],\n",
       "        [ nan,  nan,  nan,  nan,  nan,  nan,  nan,  nan,  nan,  nan,  nan,\n",
       "          nan,  nan,  nan,  nan,  nan,  nan],\n",
       "        [ nan,  nan,  nan,  nan,  nan,  nan,  nan,  nan,  nan,  nan,  nan,\n",
       "          nan,  nan,  nan,  nan,  nan,  nan]]], dtype=float32)"
      ]
     },
     "execution_count": 213,
     "metadata": {},
     "output_type": "execute_result"
    }
   ],
   "source": [
    "model.predict([x_images[0:1], z_images[0:1]])"
   ]
  },
  {
   "cell_type": "code",
   "execution_count": 73,
   "metadata": {},
   "outputs": [
    {
     "name": "stdout",
     "output_type": "stream",
     "text": [
      "____________________________________________________________________________________________________\n",
      "Layer (type)                     Output Shape          Param #     Connected to                     \n",
      "====================================================================================================\n",
      "input_56 (InputLayer)            (None, 255, 255, 3)   0                                            \n",
      "____________________________________________________________________________________________________\n",
      "input_55 (InputLayer)            (None, 127, 127, 3)   0                                            \n",
      "____________________________________________________________________________________________________\n",
      "conv2d_136 (Conv2D)              multiple              17472                                        \n",
      "____________________________________________________________________________________________________\n",
      "batch_normalization_109 (BatchNo multiple              192                                          \n",
      "____________________________________________________________________________________________________\n",
      "max_pooling2d_55 (MaxPooling2D)  multiple              0                                            \n",
      "____________________________________________________________________________________________________\n",
      "conv2d_137 (Conv2D)              multiple              153728                                       \n",
      "____________________________________________________________________________________________________\n",
      "batch_normalization_110 (BatchNo multiple              512                                          \n",
      "____________________________________________________________________________________________________\n",
      "max_pooling2d_56 (MaxPooling2D)  multiple              0                                            \n",
      "____________________________________________________________________________________________________\n",
      "conv2d_138 (Conv2D)              multiple              55344                                        \n",
      "____________________________________________________________________________________________________\n",
      "batch_normalization_111 (BatchNo multiple              192                                          \n",
      "____________________________________________________________________________________________________\n",
      "conv2d_139 (Conv2D)              multiple              20784                                        \n",
      "____________________________________________________________________________________________________\n",
      "batch_normalization_112 (BatchNo multiple              192                                          \n",
      "____________________________________________________________________________________________________\n",
      "conv2d_140 (Conv2D)              multiple              13856                                        \n",
      "____________________________________________________________________________________________________\n",
      "lambda_28 (Lambda)               (None, 17, 17)        0                                            \n",
      "====================================================================================================\n",
      "Total params: 262,272.0\n",
      "Trainable params: 261,728.0\n",
      "Non-trainable params: 544.0\n",
      "____________________________________________________________________________________________________\n"
     ]
    }
   ],
   "source": [
    "model.summary()"
   ]
  },
  {
   "cell_type": "code",
   "execution_count": 79,
   "metadata": {},
   "outputs": [
    {
     "data": {
      "text/plain": [
       "(100, 255, 255, 3)"
      ]
     },
     "execution_count": 79,
     "metadata": {},
     "output_type": "execute_result"
    }
   ],
   "source": [
    "x_images.shape"
   ]
  },
  {
   "cell_type": "code",
   "execution_count": 81,
   "metadata": {},
   "outputs": [
    {
     "name": "stdout",
     "output_type": "stream",
     "text": [
      "[ 21.81794532  19.62064728   7.22914812]\n"
     ]
    }
   ],
   "source": [
    "avg_colors = np.mean(z_images, axis=(0,1,2))\n",
    "print(avg_colors)"
   ]
  },
  {
   "cell_type": "code",
   "execution_count": null,
   "metadata": {
    "collapsed": true
   },
   "outputs": [],
   "source": []
  }
 ],
 "metadata": {
  "kernelspec": {
   "display_name": "Python 3",
   "language": "python",
   "name": "python3"
  },
  "language_info": {
   "codemirror_mode": {
    "name": "ipython",
    "version": 3
   },
   "file_extension": ".py",
   "mimetype": "text/x-python",
   "name": "python",
   "nbconvert_exporter": "python",
   "pygments_lexer": "ipython3",
   "version": "3.5.3"
  }
 },
 "nbformat": 4,
 "nbformat_minor": 2
}
